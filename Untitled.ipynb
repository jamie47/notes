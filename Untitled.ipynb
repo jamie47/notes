{
 "cells": [
  {
   "cell_type": "code",
   "execution_count": 112,
   "metadata": {
    "collapsed": false
   },
   "outputs": [
    {
     "name": "stdout",
     "output_type": "stream",
     "text": [
      "Warning: Cannot change to a different GUI toolkit: qt. Using notebook instead.\n"
     ]
    }
   ],
   "source": [
    "import numpy as np\n",
    "import pandas as pd\n",
    "import quandl\n",
    "quandl.ApiConfig.api_key = 'ovL9JHaFTAiAyuRfLU8j'\n",
    "import os\n",
    "#inline\n",
    "%matplotlib qt\n",
    "import sklearn"
   ]
  },
  {
   "cell_type": "code",
   "execution_count": 4,
   "metadata": {
    "collapsed": false
   },
   "outputs": [
    {
     "data": {
      "text/plain": [
       "'\\nlook at returns or log returns\\ndo some linear/ multi linear regression\\nsome notes on what the parametes mean\\nlasso and ridge regression\\nOther things? autocorr?  tests for cointegration\\n\\nPCA\\n\\ngraphs?\\n\\n'"
      ]
     },
     "execution_count": 4,
     "metadata": {},
     "output_type": "execute_result"
    }
   ],
   "source": [
    "# get data\n",
    "#also have somehting to import from csv\n",
    "'''\n",
    "look at returns or log returns\n",
    "do some linear/ multi linear regression\n",
    "some notes on what the parametes mean\n",
    "lasso and ridge regression\n",
    "Other things? autocorr?  tests for cointegration\n",
    "\n",
    "PCA\n",
    "\n",
    "graphs?\n",
    "\n",
    "'''"
   ]
  },
  {
   "cell_type": "code",
   "execution_count": 8,
   "metadata": {
    "collapsed": false
   },
   "outputs": [],
   "source": [
    "# Standard import from CSV\n",
    "GS = pd.read_csv('EOD-GS.csv')"
   ]
  },
  {
   "cell_type": "code",
   "execution_count": 17,
   "metadata": {
    "collapsed": false
   },
   "outputs": [
    {
     "data": {
      "text/plain": [
       "['.ipynb_checkpoints',\n",
       " 'EOD-GS.csv',\n",
       " 'EOD-KO.csv',\n",
       " 'EOD-MRK.csv',\n",
       " 'EOD-PG.csv',\n",
       " 'EOD-TRV.csv',\n",
       " 'EOD-UNH.csv',\n",
       " 'EOD-UTX.csv',\n",
       " 'EOD-V.csv',\n",
       " 'EOD-VZ.csv',\n",
       " 'EOD-WMT.csv',\n",
       " 'Practice.ipynb',\n",
       " 'Untitled.ipynb']"
      ]
     },
     "execution_count": 17,
     "metadata": {},
     "output_type": "execute_result"
    }
   ],
   "source": [
    "# files in current directory\n",
    "listing = os.listdir(cwd)"
   ]
  },
  {
   "cell_type": "code",
   "execution_count": 55,
   "metadata": {
    "collapsed": false
   },
   "outputs": [],
   "source": [
    "#dict of dataframes\n",
    "df_dict = {}\n",
    "cwd = os.getcwd()\n",
    "for csv_file in listing:\n",
    "    filename, file_extension = os.path.splitext(csv_file)\n",
    "    #print(file_extension)\n",
    "    if file_extension == '.csv':\n",
    "        df_dict[filename] = pd.read_csv(csv_file).set_index('Date')"
   ]
  },
  {
   "cell_type": "code",
   "execution_count": 72,
   "metadata": {
    "collapsed": false
   },
   "outputs": [],
   "source": [
    "dataframe = pd.DataFrame()\n",
    "for df in df_dict:\n",
    "    dataframe = pd.concat([dataframe, df_dict[df]['Close'].to_frame()], axis=1)\n",
    "    \n",
    "dataframe.columns = df_dict.keys()"
   ]
  },
  {
   "cell_type": "code",
   "execution_count": 78,
   "metadata": {
    "collapsed": false
   },
   "outputs": [],
   "source": [
    "df_2017 = dataframe[dataframe.index>'2017-01-01']"
   ]
  },
  {
   "cell_type": "code",
   "execution_count": 86,
   "metadata": {
    "collapsed": false
   },
   "outputs": [],
   "source": [
    "log_returns = np.log(df_2017).diff()\n"
   ]
  },
  {
   "cell_type": "code",
   "execution_count": 106,
   "metadata": {
    "collapsed": false
   },
   "outputs": [
    {
     "data": {
      "application/javascript": [
       "/* Put everything inside the global mpl namespace */\n",
       "window.mpl = {};\n",
       "\n",
       "mpl.get_websocket_type = function() {\n",
       "    if (typeof(WebSocket) !== 'undefined') {\n",
       "        return WebSocket;\n",
       "    } else if (typeof(MozWebSocket) !== 'undefined') {\n",
       "        return MozWebSocket;\n",
       "    } else {\n",
       "        alert('Your browser does not have WebSocket support.' +\n",
       "              'Please try Chrome, Safari or Firefox ≥ 6. ' +\n",
       "              'Firefox 4 and 5 are also supported but you ' +\n",
       "              'have to enable WebSockets in about:config.');\n",
       "    };\n",
       "}\n",
       "\n",
       "mpl.figure = function(figure_id, websocket, ondownload, parent_element) {\n",
       "    this.id = figure_id;\n",
       "\n",
       "    this.ws = websocket;\n",
       "\n",
       "    this.supports_binary = (this.ws.binaryType != undefined);\n",
       "\n",
       "    if (!this.supports_binary) {\n",
       "        var warnings = document.getElementById(\"mpl-warnings\");\n",
       "        if (warnings) {\n",
       "            warnings.style.display = 'block';\n",
       "            warnings.textContent = (\n",
       "                \"This browser does not support binary websocket messages. \" +\n",
       "                    \"Performance may be slow.\");\n",
       "        }\n",
       "    }\n",
       "\n",
       "    this.imageObj = new Image();\n",
       "\n",
       "    this.context = undefined;\n",
       "    this.message = undefined;\n",
       "    this.canvas = undefined;\n",
       "    this.rubberband_canvas = undefined;\n",
       "    this.rubberband_context = undefined;\n",
       "    this.format_dropdown = undefined;\n",
       "\n",
       "    this.image_mode = 'full';\n",
       "\n",
       "    this.root = $('<div/>');\n",
       "    this._root_extra_style(this.root)\n",
       "    this.root.attr('style', 'display: inline-block');\n",
       "\n",
       "    $(parent_element).append(this.root);\n",
       "\n",
       "    this._init_header(this);\n",
       "    this._init_canvas(this);\n",
       "    this._init_toolbar(this);\n",
       "\n",
       "    var fig = this;\n",
       "\n",
       "    this.waiting = false;\n",
       "\n",
       "    this.ws.onopen =  function () {\n",
       "            fig.send_message(\"supports_binary\", {value: fig.supports_binary});\n",
       "            fig.send_message(\"send_image_mode\", {});\n",
       "            fig.send_message(\"refresh\", {});\n",
       "        }\n",
       "\n",
       "    this.imageObj.onload = function() {\n",
       "            if (fig.image_mode == 'full') {\n",
       "                // Full images could contain transparency (where diff images\n",
       "                // almost always do), so we need to clear the canvas so that\n",
       "                // there is no ghosting.\n",
       "                fig.context.clearRect(0, 0, fig.canvas.width, fig.canvas.height);\n",
       "            }\n",
       "            fig.context.drawImage(fig.imageObj, 0, 0);\n",
       "        };\n",
       "\n",
       "    this.imageObj.onunload = function() {\n",
       "        this.ws.close();\n",
       "    }\n",
       "\n",
       "    this.ws.onmessage = this._make_on_message_function(this);\n",
       "\n",
       "    this.ondownload = ondownload;\n",
       "}\n",
       "\n",
       "mpl.figure.prototype._init_header = function() {\n",
       "    var titlebar = $(\n",
       "        '<div class=\"ui-dialog-titlebar ui-widget-header ui-corner-all ' +\n",
       "        'ui-helper-clearfix\"/>');\n",
       "    var titletext = $(\n",
       "        '<div class=\"ui-dialog-title\" style=\"width: 100%; ' +\n",
       "        'text-align: center; padding: 3px;\"/>');\n",
       "    titlebar.append(titletext)\n",
       "    this.root.append(titlebar);\n",
       "    this.header = titletext[0];\n",
       "}\n",
       "\n",
       "\n",
       "\n",
       "mpl.figure.prototype._canvas_extra_style = function(canvas_div) {\n",
       "\n",
       "}\n",
       "\n",
       "\n",
       "mpl.figure.prototype._root_extra_style = function(canvas_div) {\n",
       "\n",
       "}\n",
       "\n",
       "mpl.figure.prototype._init_canvas = function() {\n",
       "    var fig = this;\n",
       "\n",
       "    var canvas_div = $('<div/>');\n",
       "\n",
       "    canvas_div.attr('style', 'position: relative; clear: both; outline: 0');\n",
       "\n",
       "    function canvas_keyboard_event(event) {\n",
       "        return fig.key_event(event, event['data']);\n",
       "    }\n",
       "\n",
       "    canvas_div.keydown('key_press', canvas_keyboard_event);\n",
       "    canvas_div.keyup('key_release', canvas_keyboard_event);\n",
       "    this.canvas_div = canvas_div\n",
       "    this._canvas_extra_style(canvas_div)\n",
       "    this.root.append(canvas_div);\n",
       "\n",
       "    var canvas = $('<canvas/>');\n",
       "    canvas.addClass('mpl-canvas');\n",
       "    canvas.attr('style', \"left: 0; top: 0; z-index: 0; outline: 0\")\n",
       "\n",
       "    this.canvas = canvas[0];\n",
       "    this.context = canvas[0].getContext(\"2d\");\n",
       "\n",
       "    var rubberband = $('<canvas/>');\n",
       "    rubberband.attr('style', \"position: absolute; left: 0; top: 0; z-index: 1;\")\n",
       "\n",
       "    var pass_mouse_events = true;\n",
       "\n",
       "    canvas_div.resizable({\n",
       "        start: function(event, ui) {\n",
       "            pass_mouse_events = false;\n",
       "        },\n",
       "        resize: function(event, ui) {\n",
       "            fig.request_resize(ui.size.width, ui.size.height);\n",
       "        },\n",
       "        stop: function(event, ui) {\n",
       "            pass_mouse_events = true;\n",
       "            fig.request_resize(ui.size.width, ui.size.height);\n",
       "        },\n",
       "    });\n",
       "\n",
       "    function mouse_event_fn(event) {\n",
       "        if (pass_mouse_events)\n",
       "            return fig.mouse_event(event, event['data']);\n",
       "    }\n",
       "\n",
       "    rubberband.mousedown('button_press', mouse_event_fn);\n",
       "    rubberband.mouseup('button_release', mouse_event_fn);\n",
       "    // Throttle sequential mouse events to 1 every 20ms.\n",
       "    rubberband.mousemove('motion_notify', mouse_event_fn);\n",
       "\n",
       "    rubberband.mouseenter('figure_enter', mouse_event_fn);\n",
       "    rubberband.mouseleave('figure_leave', mouse_event_fn);\n",
       "\n",
       "    canvas_div.on(\"wheel\", function (event) {\n",
       "        event = event.originalEvent;\n",
       "        event['data'] = 'scroll'\n",
       "        if (event.deltaY < 0) {\n",
       "            event.step = 1;\n",
       "        } else {\n",
       "            event.step = -1;\n",
       "        }\n",
       "        mouse_event_fn(event);\n",
       "    });\n",
       "\n",
       "    canvas_div.append(canvas);\n",
       "    canvas_div.append(rubberband);\n",
       "\n",
       "    this.rubberband = rubberband;\n",
       "    this.rubberband_canvas = rubberband[0];\n",
       "    this.rubberband_context = rubberband[0].getContext(\"2d\");\n",
       "    this.rubberband_context.strokeStyle = \"#000000\";\n",
       "\n",
       "    this._resize_canvas = function(width, height) {\n",
       "        // Keep the size of the canvas, canvas container, and rubber band\n",
       "        // canvas in synch.\n",
       "        canvas_div.css('width', width)\n",
       "        canvas_div.css('height', height)\n",
       "\n",
       "        canvas.attr('width', width);\n",
       "        canvas.attr('height', height);\n",
       "\n",
       "        rubberband.attr('width', width);\n",
       "        rubberband.attr('height', height);\n",
       "    }\n",
       "\n",
       "    // Set the figure to an initial 600x600px, this will subsequently be updated\n",
       "    // upon first draw.\n",
       "    this._resize_canvas(600, 600);\n",
       "\n",
       "    // Disable right mouse context menu.\n",
       "    $(this.rubberband_canvas).bind(\"contextmenu\",function(e){\n",
       "        return false;\n",
       "    });\n",
       "\n",
       "    function set_focus () {\n",
       "        canvas.focus();\n",
       "        canvas_div.focus();\n",
       "    }\n",
       "\n",
       "    window.setTimeout(set_focus, 100);\n",
       "}\n",
       "\n",
       "mpl.figure.prototype._init_toolbar = function() {\n",
       "    var fig = this;\n",
       "\n",
       "    var nav_element = $('<div/>')\n",
       "    nav_element.attr('style', 'width: 100%');\n",
       "    this.root.append(nav_element);\n",
       "\n",
       "    // Define a callback function for later on.\n",
       "    function toolbar_event(event) {\n",
       "        return fig.toolbar_button_onclick(event['data']);\n",
       "    }\n",
       "    function toolbar_mouse_event(event) {\n",
       "        return fig.toolbar_button_onmouseover(event['data']);\n",
       "    }\n",
       "\n",
       "    for(var toolbar_ind in mpl.toolbar_items) {\n",
       "        var name = mpl.toolbar_items[toolbar_ind][0];\n",
       "        var tooltip = mpl.toolbar_items[toolbar_ind][1];\n",
       "        var image = mpl.toolbar_items[toolbar_ind][2];\n",
       "        var method_name = mpl.toolbar_items[toolbar_ind][3];\n",
       "\n",
       "        if (!name) {\n",
       "            // put a spacer in here.\n",
       "            continue;\n",
       "        }\n",
       "        var button = $('<button/>');\n",
       "        button.addClass('ui-button ui-widget ui-state-default ui-corner-all ' +\n",
       "                        'ui-button-icon-only');\n",
       "        button.attr('role', 'button');\n",
       "        button.attr('aria-disabled', 'false');\n",
       "        button.click(method_name, toolbar_event);\n",
       "        button.mouseover(tooltip, toolbar_mouse_event);\n",
       "\n",
       "        var icon_img = $('<span/>');\n",
       "        icon_img.addClass('ui-button-icon-primary ui-icon');\n",
       "        icon_img.addClass(image);\n",
       "        icon_img.addClass('ui-corner-all');\n",
       "\n",
       "        var tooltip_span = $('<span/>');\n",
       "        tooltip_span.addClass('ui-button-text');\n",
       "        tooltip_span.html(tooltip);\n",
       "\n",
       "        button.append(icon_img);\n",
       "        button.append(tooltip_span);\n",
       "\n",
       "        nav_element.append(button);\n",
       "    }\n",
       "\n",
       "    var fmt_picker_span = $('<span/>');\n",
       "\n",
       "    var fmt_picker = $('<select/>');\n",
       "    fmt_picker.addClass('mpl-toolbar-option ui-widget ui-widget-content');\n",
       "    fmt_picker_span.append(fmt_picker);\n",
       "    nav_element.append(fmt_picker_span);\n",
       "    this.format_dropdown = fmt_picker[0];\n",
       "\n",
       "    for (var ind in mpl.extensions) {\n",
       "        var fmt = mpl.extensions[ind];\n",
       "        var option = $(\n",
       "            '<option/>', {selected: fmt === mpl.default_extension}).html(fmt);\n",
       "        fmt_picker.append(option)\n",
       "    }\n",
       "\n",
       "    // Add hover states to the ui-buttons\n",
       "    $( \".ui-button\" ).hover(\n",
       "        function() { $(this).addClass(\"ui-state-hover\");},\n",
       "        function() { $(this).removeClass(\"ui-state-hover\");}\n",
       "    );\n",
       "\n",
       "    var status_bar = $('<span class=\"mpl-message\"/>');\n",
       "    nav_element.append(status_bar);\n",
       "    this.message = status_bar[0];\n",
       "}\n",
       "\n",
       "mpl.figure.prototype.request_resize = function(x_pixels, y_pixels) {\n",
       "    // Request matplotlib to resize the figure. Matplotlib will then trigger a resize in the client,\n",
       "    // which will in turn request a refresh of the image.\n",
       "    this.send_message('resize', {'width': x_pixels, 'height': y_pixels});\n",
       "}\n",
       "\n",
       "mpl.figure.prototype.send_message = function(type, properties) {\n",
       "    properties['type'] = type;\n",
       "    properties['figure_id'] = this.id;\n",
       "    this.ws.send(JSON.stringify(properties));\n",
       "}\n",
       "\n",
       "mpl.figure.prototype.send_draw_message = function() {\n",
       "    if (!this.waiting) {\n",
       "        this.waiting = true;\n",
       "        this.ws.send(JSON.stringify({type: \"draw\", figure_id: this.id}));\n",
       "    }\n",
       "}\n",
       "\n",
       "\n",
       "mpl.figure.prototype.handle_save = function(fig, msg) {\n",
       "    var format_dropdown = fig.format_dropdown;\n",
       "    var format = format_dropdown.options[format_dropdown.selectedIndex].value;\n",
       "    fig.ondownload(fig, format);\n",
       "}\n",
       "\n",
       "\n",
       "mpl.figure.prototype.handle_resize = function(fig, msg) {\n",
       "    var size = msg['size'];\n",
       "    if (size[0] != fig.canvas.width || size[1] != fig.canvas.height) {\n",
       "        fig._resize_canvas(size[0], size[1]);\n",
       "        fig.send_message(\"refresh\", {});\n",
       "    };\n",
       "}\n",
       "\n",
       "mpl.figure.prototype.handle_rubberband = function(fig, msg) {\n",
       "    var x0 = msg['x0'];\n",
       "    var y0 = fig.canvas.height - msg['y0'];\n",
       "    var x1 = msg['x1'];\n",
       "    var y1 = fig.canvas.height - msg['y1'];\n",
       "    x0 = Math.floor(x0) + 0.5;\n",
       "    y0 = Math.floor(y0) + 0.5;\n",
       "    x1 = Math.floor(x1) + 0.5;\n",
       "    y1 = Math.floor(y1) + 0.5;\n",
       "    var min_x = Math.min(x0, x1);\n",
       "    var min_y = Math.min(y0, y1);\n",
       "    var width = Math.abs(x1 - x0);\n",
       "    var height = Math.abs(y1 - y0);\n",
       "\n",
       "    fig.rubberband_context.clearRect(\n",
       "        0, 0, fig.canvas.width, fig.canvas.height);\n",
       "\n",
       "    fig.rubberband_context.strokeRect(min_x, min_y, width, height);\n",
       "}\n",
       "\n",
       "mpl.figure.prototype.handle_figure_label = function(fig, msg) {\n",
       "    // Updates the figure title.\n",
       "    fig.header.textContent = msg['label'];\n",
       "}\n",
       "\n",
       "mpl.figure.prototype.handle_cursor = function(fig, msg) {\n",
       "    var cursor = msg['cursor'];\n",
       "    switch(cursor)\n",
       "    {\n",
       "    case 0:\n",
       "        cursor = 'pointer';\n",
       "        break;\n",
       "    case 1:\n",
       "        cursor = 'default';\n",
       "        break;\n",
       "    case 2:\n",
       "        cursor = 'crosshair';\n",
       "        break;\n",
       "    case 3:\n",
       "        cursor = 'move';\n",
       "        break;\n",
       "    }\n",
       "    fig.rubberband_canvas.style.cursor = cursor;\n",
       "}\n",
       "\n",
       "mpl.figure.prototype.handle_message = function(fig, msg) {\n",
       "    fig.message.textContent = msg['message'];\n",
       "}\n",
       "\n",
       "mpl.figure.prototype.handle_draw = function(fig, msg) {\n",
       "    // Request the server to send over a new figure.\n",
       "    fig.send_draw_message();\n",
       "}\n",
       "\n",
       "mpl.figure.prototype.handle_image_mode = function(fig, msg) {\n",
       "    fig.image_mode = msg['mode'];\n",
       "}\n",
       "\n",
       "mpl.figure.prototype.updated_canvas_event = function() {\n",
       "    // Called whenever the canvas gets updated.\n",
       "    this.send_message(\"ack\", {});\n",
       "}\n",
       "\n",
       "// A function to construct a web socket function for onmessage handling.\n",
       "// Called in the figure constructor.\n",
       "mpl.figure.prototype._make_on_message_function = function(fig) {\n",
       "    return function socket_on_message(evt) {\n",
       "        if (evt.data instanceof Blob) {\n",
       "            /* FIXME: We get \"Resource interpreted as Image but\n",
       "             * transferred with MIME type text/plain:\" errors on\n",
       "             * Chrome.  But how to set the MIME type?  It doesn't seem\n",
       "             * to be part of the websocket stream */\n",
       "            evt.data.type = \"image/png\";\n",
       "\n",
       "            /* Free the memory for the previous frames */\n",
       "            if (fig.imageObj.src) {\n",
       "                (window.URL || window.webkitURL).revokeObjectURL(\n",
       "                    fig.imageObj.src);\n",
       "            }\n",
       "\n",
       "            fig.imageObj.src = (window.URL || window.webkitURL).createObjectURL(\n",
       "                evt.data);\n",
       "            fig.updated_canvas_event();\n",
       "            fig.waiting = false;\n",
       "            return;\n",
       "        }\n",
       "        else if (typeof evt.data === 'string' && evt.data.slice(0, 21) == \"data:image/png;base64\") {\n",
       "            fig.imageObj.src = evt.data;\n",
       "            fig.updated_canvas_event();\n",
       "            fig.waiting = false;\n",
       "            return;\n",
       "        }\n",
       "\n",
       "        var msg = JSON.parse(evt.data);\n",
       "        var msg_type = msg['type'];\n",
       "\n",
       "        // Call the  \"handle_{type}\" callback, which takes\n",
       "        // the figure and JSON message as its only arguments.\n",
       "        try {\n",
       "            var callback = fig[\"handle_\" + msg_type];\n",
       "        } catch (e) {\n",
       "            console.log(\"No handler for the '\" + msg_type + \"' message type: \", msg);\n",
       "            return;\n",
       "        }\n",
       "\n",
       "        if (callback) {\n",
       "            try {\n",
       "                // console.log(\"Handling '\" + msg_type + \"' message: \", msg);\n",
       "                callback(fig, msg);\n",
       "            } catch (e) {\n",
       "                console.log(\"Exception inside the 'handler_\" + msg_type + \"' callback:\", e, e.stack, msg);\n",
       "            }\n",
       "        }\n",
       "    };\n",
       "}\n",
       "\n",
       "// from http://stackoverflow.com/questions/1114465/getting-mouse-location-in-canvas\n",
       "mpl.findpos = function(e) {\n",
       "    //this section is from http://www.quirksmode.org/js/events_properties.html\n",
       "    var targ;\n",
       "    if (!e)\n",
       "        e = window.event;\n",
       "    if (e.target)\n",
       "        targ = e.target;\n",
       "    else if (e.srcElement)\n",
       "        targ = e.srcElement;\n",
       "    if (targ.nodeType == 3) // defeat Safari bug\n",
       "        targ = targ.parentNode;\n",
       "\n",
       "    // jQuery normalizes the pageX and pageY\n",
       "    // pageX,Y are the mouse positions relative to the document\n",
       "    // offset() returns the position of the element relative to the document\n",
       "    var x = e.pageX - $(targ).offset().left;\n",
       "    var y = e.pageY - $(targ).offset().top;\n",
       "\n",
       "    return {\"x\": x, \"y\": y};\n",
       "};\n",
       "\n",
       "/*\n",
       " * return a copy of an object with only non-object keys\n",
       " * we need this to avoid circular references\n",
       " * http://stackoverflow.com/a/24161582/3208463\n",
       " */\n",
       "function simpleKeys (original) {\n",
       "  return Object.keys(original).reduce(function (obj, key) {\n",
       "    if (typeof original[key] !== 'object')\n",
       "        obj[key] = original[key]\n",
       "    return obj;\n",
       "  }, {});\n",
       "}\n",
       "\n",
       "mpl.figure.prototype.mouse_event = function(event, name) {\n",
       "    var canvas_pos = mpl.findpos(event)\n",
       "\n",
       "    if (name === 'button_press')\n",
       "    {\n",
       "        this.canvas.focus();\n",
       "        this.canvas_div.focus();\n",
       "    }\n",
       "\n",
       "    var x = canvas_pos.x;\n",
       "    var y = canvas_pos.y;\n",
       "\n",
       "    this.send_message(name, {x: x, y: y, button: event.button,\n",
       "                             step: event.step,\n",
       "                             guiEvent: simpleKeys(event)});\n",
       "\n",
       "    /* This prevents the web browser from automatically changing to\n",
       "     * the text insertion cursor when the button is pressed.  We want\n",
       "     * to control all of the cursor setting manually through the\n",
       "     * 'cursor' event from matplotlib */\n",
       "    event.preventDefault();\n",
       "    return false;\n",
       "}\n",
       "\n",
       "mpl.figure.prototype._key_event_extra = function(event, name) {\n",
       "    // Handle any extra behaviour associated with a key event\n",
       "}\n",
       "\n",
       "mpl.figure.prototype.key_event = function(event, name) {\n",
       "\n",
       "    // Prevent repeat events\n",
       "    if (name == 'key_press')\n",
       "    {\n",
       "        if (event.which === this._key)\n",
       "            return;\n",
       "        else\n",
       "            this._key = event.which;\n",
       "    }\n",
       "    if (name == 'key_release')\n",
       "        this._key = null;\n",
       "\n",
       "    var value = '';\n",
       "    if (event.ctrlKey && event.which != 17)\n",
       "        value += \"ctrl+\";\n",
       "    if (event.altKey && event.which != 18)\n",
       "        value += \"alt+\";\n",
       "    if (event.shiftKey && event.which != 16)\n",
       "        value += \"shift+\";\n",
       "\n",
       "    value += 'k';\n",
       "    value += event.which.toString();\n",
       "\n",
       "    this._key_event_extra(event, name);\n",
       "\n",
       "    this.send_message(name, {key: value,\n",
       "                             guiEvent: simpleKeys(event)});\n",
       "    return false;\n",
       "}\n",
       "\n",
       "mpl.figure.prototype.toolbar_button_onclick = function(name) {\n",
       "    if (name == 'download') {\n",
       "        this.handle_save(this, null);\n",
       "    } else {\n",
       "        this.send_message(\"toolbar_button\", {name: name});\n",
       "    }\n",
       "};\n",
       "\n",
       "mpl.figure.prototype.toolbar_button_onmouseover = function(tooltip) {\n",
       "    this.message.textContent = tooltip;\n",
       "};\n",
       "mpl.toolbar_items = [[\"Home\", \"Reset original view\", \"fa fa-home icon-home\", \"home\"], [\"Back\", \"Back to  previous view\", \"fa fa-arrow-left icon-arrow-left\", \"back\"], [\"Forward\", \"Forward to next view\", \"fa fa-arrow-right icon-arrow-right\", \"forward\"], [\"\", \"\", \"\", \"\"], [\"Pan\", \"Pan axes with left mouse, zoom with right\", \"fa fa-arrows icon-move\", \"pan\"], [\"Zoom\", \"Zoom to rectangle\", \"fa fa-square-o icon-check-empty\", \"zoom\"], [\"\", \"\", \"\", \"\"], [\"Download\", \"Download plot\", \"fa fa-floppy-o icon-save\", \"download\"]];\n",
       "\n",
       "mpl.extensions = [\"eps\", \"jpeg\", \"pdf\", \"png\", \"ps\", \"raw\", \"svg\", \"tif\"];\n",
       "\n",
       "mpl.default_extension = \"png\";var comm_websocket_adapter = function(comm) {\n",
       "    // Create a \"websocket\"-like object which calls the given IPython comm\n",
       "    // object with the appropriate methods. Currently this is a non binary\n",
       "    // socket, so there is still some room for performance tuning.\n",
       "    var ws = {};\n",
       "\n",
       "    ws.close = function() {\n",
       "        comm.close()\n",
       "    };\n",
       "    ws.send = function(m) {\n",
       "        //console.log('sending', m);\n",
       "        comm.send(m);\n",
       "    };\n",
       "    // Register the callback with on_msg.\n",
       "    comm.on_msg(function(msg) {\n",
       "        //console.log('receiving', msg['content']['data'], msg);\n",
       "        // Pass the mpl event to the overriden (by mpl) onmessage function.\n",
       "        ws.onmessage(msg['content']['data'])\n",
       "    });\n",
       "    return ws;\n",
       "}\n",
       "\n",
       "mpl.mpl_figure_comm = function(comm, msg) {\n",
       "    // This is the function which gets called when the mpl process\n",
       "    // starts-up an IPython Comm through the \"matplotlib\" channel.\n",
       "\n",
       "    var id = msg.content.data.id;\n",
       "    // Get hold of the div created by the display call when the Comm\n",
       "    // socket was opened in Python.\n",
       "    var element = $(\"#\" + id);\n",
       "    var ws_proxy = comm_websocket_adapter(comm)\n",
       "\n",
       "    function ondownload(figure, format) {\n",
       "        window.open(figure.imageObj.src);\n",
       "    }\n",
       "\n",
       "    var fig = new mpl.figure(id, ws_proxy,\n",
       "                           ondownload,\n",
       "                           element.get(0));\n",
       "\n",
       "    // Call onopen now - mpl needs it, as it is assuming we've passed it a real\n",
       "    // web socket which is closed, not our websocket->open comm proxy.\n",
       "    ws_proxy.onopen();\n",
       "\n",
       "    fig.parent_element = element.get(0);\n",
       "    fig.cell_info = mpl.find_output_cell(\"<div id='\" + id + \"'></div>\");\n",
       "    if (!fig.cell_info) {\n",
       "        console.error(\"Failed to find cell for figure\", id, fig);\n",
       "        return;\n",
       "    }\n",
       "\n",
       "    var output_index = fig.cell_info[2]\n",
       "    var cell = fig.cell_info[0];\n",
       "\n",
       "};\n",
       "\n",
       "mpl.figure.prototype.handle_close = function(fig, msg) {\n",
       "    fig.root.unbind('remove')\n",
       "\n",
       "    // Update the output cell to use the data from the current canvas.\n",
       "    fig.push_to_output();\n",
       "    var dataURL = fig.canvas.toDataURL();\n",
       "    // Re-enable the keyboard manager in IPython - without this line, in FF,\n",
       "    // the notebook keyboard shortcuts fail.\n",
       "    IPython.keyboard_manager.enable()\n",
       "    $(fig.parent_element).html('<img src=\"' + dataURL + '\">');\n",
       "    fig.close_ws(fig, msg);\n",
       "}\n",
       "\n",
       "mpl.figure.prototype.close_ws = function(fig, msg){\n",
       "    fig.send_message('closing', msg);\n",
       "    // fig.ws.close()\n",
       "}\n",
       "\n",
       "mpl.figure.prototype.push_to_output = function(remove_interactive) {\n",
       "    // Turn the data on the canvas into data in the output cell.\n",
       "    var dataURL = this.canvas.toDataURL();\n",
       "    this.cell_info[1]['text/html'] = '<img src=\"' + dataURL + '\">';\n",
       "}\n",
       "\n",
       "mpl.figure.prototype.updated_canvas_event = function() {\n",
       "    // Tell IPython that the notebook contents must change.\n",
       "    IPython.notebook.set_dirty(true);\n",
       "    this.send_message(\"ack\", {});\n",
       "    var fig = this;\n",
       "    // Wait a second, then push the new image to the DOM so\n",
       "    // that it is saved nicely (might be nice to debounce this).\n",
       "    setTimeout(function () { fig.push_to_output() }, 1000);\n",
       "}\n",
       "\n",
       "mpl.figure.prototype._init_toolbar = function() {\n",
       "    var fig = this;\n",
       "\n",
       "    var nav_element = $('<div/>')\n",
       "    nav_element.attr('style', 'width: 100%');\n",
       "    this.root.append(nav_element);\n",
       "\n",
       "    // Define a callback function for later on.\n",
       "    function toolbar_event(event) {\n",
       "        return fig.toolbar_button_onclick(event['data']);\n",
       "    }\n",
       "    function toolbar_mouse_event(event) {\n",
       "        return fig.toolbar_button_onmouseover(event['data']);\n",
       "    }\n",
       "\n",
       "    for(var toolbar_ind in mpl.toolbar_items){\n",
       "        var name = mpl.toolbar_items[toolbar_ind][0];\n",
       "        var tooltip = mpl.toolbar_items[toolbar_ind][1];\n",
       "        var image = mpl.toolbar_items[toolbar_ind][2];\n",
       "        var method_name = mpl.toolbar_items[toolbar_ind][3];\n",
       "\n",
       "        if (!name) { continue; };\n",
       "\n",
       "        var button = $('<button class=\"btn btn-default\" href=\"#\" title=\"' + name + '\"><i class=\"fa ' + image + ' fa-lg\"></i></button>');\n",
       "        button.click(method_name, toolbar_event);\n",
       "        button.mouseover(tooltip, toolbar_mouse_event);\n",
       "        nav_element.append(button);\n",
       "    }\n",
       "\n",
       "    // Add the status bar.\n",
       "    var status_bar = $('<span class=\"mpl-message\" style=\"text-align:right; float: right;\"/>');\n",
       "    nav_element.append(status_bar);\n",
       "    this.message = status_bar[0];\n",
       "\n",
       "    // Add the close button to the window.\n",
       "    var buttongrp = $('<div class=\"btn-group inline pull-right\"></div>');\n",
       "    var button = $('<button class=\"btn btn-mini btn-primary\" href=\"#\" title=\"Stop Interaction\"><i class=\"fa fa-power-off icon-remove icon-large\"></i></button>');\n",
       "    button.click(function (evt) { fig.handle_close(fig, {}); } );\n",
       "    button.mouseover('Stop Interaction', toolbar_mouse_event);\n",
       "    buttongrp.append(button);\n",
       "    var titlebar = this.root.find($('.ui-dialog-titlebar'));\n",
       "    titlebar.prepend(buttongrp);\n",
       "}\n",
       "\n",
       "mpl.figure.prototype._root_extra_style = function(el){\n",
       "    var fig = this\n",
       "    el.on(\"remove\", function(){\n",
       "\tfig.close_ws(fig, {});\n",
       "    });\n",
       "}\n",
       "\n",
       "mpl.figure.prototype._canvas_extra_style = function(el){\n",
       "    // this is important to make the div 'focusable\n",
       "    el.attr('tabindex', 0)\n",
       "    // reach out to IPython and tell the keyboard manager to turn it's self\n",
       "    // off when our div gets focus\n",
       "\n",
       "    // location in version 3\n",
       "    if (IPython.notebook.keyboard_manager) {\n",
       "        IPython.notebook.keyboard_manager.register_events(el);\n",
       "    }\n",
       "    else {\n",
       "        // location in version 2\n",
       "        IPython.keyboard_manager.register_events(el);\n",
       "    }\n",
       "\n",
       "}\n",
       "\n",
       "mpl.figure.prototype._key_event_extra = function(event, name) {\n",
       "    var manager = IPython.notebook.keyboard_manager;\n",
       "    if (!manager)\n",
       "        manager = IPython.keyboard_manager;\n",
       "\n",
       "    // Check for shift+enter\n",
       "    if (event.shiftKey && event.which == 13) {\n",
       "        this.canvas_div.blur();\n",
       "        // select the cell after this one\n",
       "        var index = IPython.notebook.find_cell_index(this.cell_info[0]);\n",
       "        IPython.notebook.select(index + 1);\n",
       "    }\n",
       "}\n",
       "\n",
       "mpl.figure.prototype.handle_save = function(fig, msg) {\n",
       "    fig.ondownload(fig, null);\n",
       "}\n",
       "\n",
       "\n",
       "mpl.find_output_cell = function(html_output) {\n",
       "    // Return the cell and output element which can be found *uniquely* in the notebook.\n",
       "    // Note - this is a bit hacky, but it is done because the \"notebook_saving.Notebook\"\n",
       "    // IPython event is triggered only after the cells have been serialised, which for\n",
       "    // our purposes (turning an active figure into a static one), is too late.\n",
       "    var cells = IPython.notebook.get_cells();\n",
       "    var ncells = cells.length;\n",
       "    for (var i=0; i<ncells; i++) {\n",
       "        var cell = cells[i];\n",
       "        if (cell.cell_type === 'code'){\n",
       "            for (var j=0; j<cell.output_area.outputs.length; j++) {\n",
       "                var data = cell.output_area.outputs[j];\n",
       "                if (data.data) {\n",
       "                    // IPython >= 3 moved mimebundle to data attribute of output\n",
       "                    data = data.data;\n",
       "                }\n",
       "                if (data['text/html'] == html_output) {\n",
       "                    return [cell, data, j];\n",
       "                }\n",
       "            }\n",
       "        }\n",
       "    }\n",
       "}\n",
       "\n",
       "// Register the function which deals with the matplotlib target/channel.\n",
       "// The kernel may be null if the page has been refreshed.\n",
       "if (IPython.notebook.kernel != null) {\n",
       "    IPython.notebook.kernel.comm_manager.register_target('matplotlib', mpl.mpl_figure_comm);\n",
       "}\n"
      ],
      "text/plain": [
       "<IPython.core.display.Javascript object>"
      ]
     },
     "metadata": {},
     "output_type": "display_data"
    },
    {
     "data": {
      "text/html": [
       "<img src=\"data:image/png;base64,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\">"
      ],
      "text/plain": [
       "<IPython.core.display.HTML object>"
      ]
     },
     "metadata": {},
     "output_type": "display_data"
    },
    {
     "data": {
      "text/plain": [
       "<matplotlib.axes._subplots.AxesSubplot at 0x1210d0f98>"
      ]
     },
     "execution_count": 106,
     "metadata": {},
     "output_type": "execute_result"
    }
   ],
   "source": [
    "log_returns['EOD-PG'].hist(bins=20)"
   ]
  },
  {
   "cell_type": "code",
   "execution_count": 111,
   "metadata": {
    "collapsed": false
   },
   "outputs": [],
   "source": [
    "#np.var(log_returns)"
   ]
  },
  {
   "cell_type": "code",
   "execution_count": 123,
   "metadata": {
    "collapsed": false
   },
   "outputs": [],
   "source": [
    "from sklearn.linear_model import LinearRegression"
   ]
  },
  {
   "cell_type": "code",
   "execution_count": 124,
   "metadata": {
    "collapsed": true
   },
   "outputs": [],
   "source": [
    "lm = LinearRegression()"
   ]
  },
  {
   "cell_type": "code",
   "execution_count": 166,
   "metadata": {
    "collapsed": false
   },
   "outputs": [],
   "source": [
    "y = log_returns['EOD-PG'].dropna()\n",
    "X = log_returns.drop('EOD-PG', axis=1).dropna()\n",
    "# Depending on version might have to add .values to the end of the df"
   ]
  },
  {
   "cell_type": "code",
   "execution_count": 167,
   "metadata": {
    "collapsed": false
   },
   "outputs": [
    {
     "data": {
      "text/plain": [
       "LinearRegression(copy_X=True, fit_intercept=True, n_jobs=1, normalize=False)"
      ]
     },
     "execution_count": 167,
     "metadata": {},
     "output_type": "execute_result"
    }
   ],
   "source": [
    "lm.fit(X,y)"
   ]
  },
  {
   "cell_type": "code",
   "execution_count": 168,
   "metadata": {
    "collapsed": false
   },
   "outputs": [
    {
     "data": {
      "text/plain": [
       "5.9279728726461633e-05"
      ]
     },
     "execution_count": 168,
     "metadata": {},
     "output_type": "execute_result"
    }
   ],
   "source": [
    "lm.intercept_"
   ]
  },
  {
   "cell_type": "code",
   "execution_count": 169,
   "metadata": {
    "collapsed": false
   },
   "outputs": [
    {
     "data": {
      "text/plain": [
       "array([ 0.06106727, -0.06187107,  0.10048195, -0.02241071,  0.0588026 ,\n",
       "        0.35841036,  0.04209415, -0.05580727,  0.09133798])"
      ]
     },
     "execution_count": 169,
     "metadata": {},
     "output_type": "execute_result"
    }
   ],
   "source": [
    "lm.coef_"
   ]
  },
  {
   "cell_type": "code",
   "execution_count": 170,
   "metadata": {
    "collapsed": false
   },
   "outputs": [
    {
     "data": {
      "text/html": [
       "<div>\n",
       "<table border=\"1\" class=\"dataframe\">\n",
       "  <thead>\n",
       "    <tr style=\"text-align: right;\">\n",
       "      <th></th>\n",
       "      <th>stock</th>\n",
       "      <th>coef</th>\n",
       "    </tr>\n",
       "  </thead>\n",
       "  <tbody>\n",
       "    <tr>\n",
       "      <th>0</th>\n",
       "      <td>EOD-VZ</td>\n",
       "      <td>0.0610673</td>\n",
       "    </tr>\n",
       "    <tr>\n",
       "      <th>1</th>\n",
       "      <td>EOD-UTX</td>\n",
       "      <td>-0.0618711</td>\n",
       "    </tr>\n",
       "    <tr>\n",
       "      <th>2</th>\n",
       "      <td>EOD-MRK</td>\n",
       "      <td>0.100482</td>\n",
       "    </tr>\n",
       "    <tr>\n",
       "      <th>3</th>\n",
       "      <td>EOD-UNH</td>\n",
       "      <td>-0.0224107</td>\n",
       "    </tr>\n",
       "    <tr>\n",
       "      <th>4</th>\n",
       "      <td>EOD-TRV</td>\n",
       "      <td>0.0588026</td>\n",
       "    </tr>\n",
       "    <tr>\n",
       "      <th>5</th>\n",
       "      <td>EOD-KO</td>\n",
       "      <td>0.35841</td>\n",
       "    </tr>\n",
       "    <tr>\n",
       "      <th>6</th>\n",
       "      <td>EOD-WMT</td>\n",
       "      <td>0.0420941</td>\n",
       "    </tr>\n",
       "    <tr>\n",
       "      <th>7</th>\n",
       "      <td>EOD-GS</td>\n",
       "      <td>-0.0558073</td>\n",
       "    </tr>\n",
       "    <tr>\n",
       "      <th>8</th>\n",
       "      <td>EOD-V</td>\n",
       "      <td>0.091338</td>\n",
       "    </tr>\n",
       "  </tbody>\n",
       "</table>\n",
       "</div>"
      ],
      "text/plain": [
       "     stock       coef\n",
       "0   EOD-VZ  0.0610673\n",
       "1  EOD-UTX -0.0618711\n",
       "2  EOD-MRK   0.100482\n",
       "3  EOD-UNH -0.0224107\n",
       "4  EOD-TRV  0.0588026\n",
       "5   EOD-KO    0.35841\n",
       "6  EOD-WMT  0.0420941\n",
       "7   EOD-GS -0.0558073\n",
       "8    EOD-V   0.091338"
      ]
     },
     "execution_count": 170,
     "metadata": {},
     "output_type": "execute_result"
    }
   ],
   "source": [
    "pd.DataFrame(np.array([X.columns,lm.coef_]).T, columns = ['stock', 'coef'])"
   ]
  },
  {
   "cell_type": "code",
   "execution_count": 171,
   "metadata": {
    "collapsed": false
   },
   "outputs": [
    {
     "data": {
      "text/plain": [
       "0.18445784999645629"
      ]
     },
     "execution_count": 171,
     "metadata": {},
     "output_type": "execute_result"
    }
   ],
   "source": [
    "lm.score(X,y)"
   ]
  },
  {
   "cell_type": "code",
   "execution_count": 162,
   "metadata": {
    "collapsed": false
   },
   "outputs": [],
   "source": [
    "lm.predict(X);"
   ]
  },
  {
   "cell_type": "code",
   "execution_count": 173,
   "metadata": {
    "collapsed": false
   },
   "outputs": [
    {
     "data": {
      "application/javascript": [
       "/* Put everything inside the global mpl namespace */\n",
       "window.mpl = {};\n",
       "\n",
       "mpl.get_websocket_type = function() {\n",
       "    if (typeof(WebSocket) !== 'undefined') {\n",
       "        return WebSocket;\n",
       "    } else if (typeof(MozWebSocket) !== 'undefined') {\n",
       "        return MozWebSocket;\n",
       "    } else {\n",
       "        alert('Your browser does not have WebSocket support.' +\n",
       "              'Please try Chrome, Safari or Firefox ≥ 6. ' +\n",
       "              'Firefox 4 and 5 are also supported but you ' +\n",
       "              'have to enable WebSockets in about:config.');\n",
       "    };\n",
       "}\n",
       "\n",
       "mpl.figure = function(figure_id, websocket, ondownload, parent_element) {\n",
       "    this.id = figure_id;\n",
       "\n",
       "    this.ws = websocket;\n",
       "\n",
       "    this.supports_binary = (this.ws.binaryType != undefined);\n",
       "\n",
       "    if (!this.supports_binary) {\n",
       "        var warnings = document.getElementById(\"mpl-warnings\");\n",
       "        if (warnings) {\n",
       "            warnings.style.display = 'block';\n",
       "            warnings.textContent = (\n",
       "                \"This browser does not support binary websocket messages. \" +\n",
       "                    \"Performance may be slow.\");\n",
       "        }\n",
       "    }\n",
       "\n",
       "    this.imageObj = new Image();\n",
       "\n",
       "    this.context = undefined;\n",
       "    this.message = undefined;\n",
       "    this.canvas = undefined;\n",
       "    this.rubberband_canvas = undefined;\n",
       "    this.rubberband_context = undefined;\n",
       "    this.format_dropdown = undefined;\n",
       "\n",
       "    this.image_mode = 'full';\n",
       "\n",
       "    this.root = $('<div/>');\n",
       "    this._root_extra_style(this.root)\n",
       "    this.root.attr('style', 'display: inline-block');\n",
       "\n",
       "    $(parent_element).append(this.root);\n",
       "\n",
       "    this._init_header(this);\n",
       "    this._init_canvas(this);\n",
       "    this._init_toolbar(this);\n",
       "\n",
       "    var fig = this;\n",
       "\n",
       "    this.waiting = false;\n",
       "\n",
       "    this.ws.onopen =  function () {\n",
       "            fig.send_message(\"supports_binary\", {value: fig.supports_binary});\n",
       "            fig.send_message(\"send_image_mode\", {});\n",
       "            fig.send_message(\"refresh\", {});\n",
       "        }\n",
       "\n",
       "    this.imageObj.onload = function() {\n",
       "            if (fig.image_mode == 'full') {\n",
       "                // Full images could contain transparency (where diff images\n",
       "                // almost always do), so we need to clear the canvas so that\n",
       "                // there is no ghosting.\n",
       "                fig.context.clearRect(0, 0, fig.canvas.width, fig.canvas.height);\n",
       "            }\n",
       "            fig.context.drawImage(fig.imageObj, 0, 0);\n",
       "        };\n",
       "\n",
       "    this.imageObj.onunload = function() {\n",
       "        this.ws.close();\n",
       "    }\n",
       "\n",
       "    this.ws.onmessage = this._make_on_message_function(this);\n",
       "\n",
       "    this.ondownload = ondownload;\n",
       "}\n",
       "\n",
       "mpl.figure.prototype._init_header = function() {\n",
       "    var titlebar = $(\n",
       "        '<div class=\"ui-dialog-titlebar ui-widget-header ui-corner-all ' +\n",
       "        'ui-helper-clearfix\"/>');\n",
       "    var titletext = $(\n",
       "        '<div class=\"ui-dialog-title\" style=\"width: 100%; ' +\n",
       "        'text-align: center; padding: 3px;\"/>');\n",
       "    titlebar.append(titletext)\n",
       "    this.root.append(titlebar);\n",
       "    this.header = titletext[0];\n",
       "}\n",
       "\n",
       "\n",
       "\n",
       "mpl.figure.prototype._canvas_extra_style = function(canvas_div) {\n",
       "\n",
       "}\n",
       "\n",
       "\n",
       "mpl.figure.prototype._root_extra_style = function(canvas_div) {\n",
       "\n",
       "}\n",
       "\n",
       "mpl.figure.prototype._init_canvas = function() {\n",
       "    var fig = this;\n",
       "\n",
       "    var canvas_div = $('<div/>');\n",
       "\n",
       "    canvas_div.attr('style', 'position: relative; clear: both; outline: 0');\n",
       "\n",
       "    function canvas_keyboard_event(event) {\n",
       "        return fig.key_event(event, event['data']);\n",
       "    }\n",
       "\n",
       "    canvas_div.keydown('key_press', canvas_keyboard_event);\n",
       "    canvas_div.keyup('key_release', canvas_keyboard_event);\n",
       "    this.canvas_div = canvas_div\n",
       "    this._canvas_extra_style(canvas_div)\n",
       "    this.root.append(canvas_div);\n",
       "\n",
       "    var canvas = $('<canvas/>');\n",
       "    canvas.addClass('mpl-canvas');\n",
       "    canvas.attr('style', \"left: 0; top: 0; z-index: 0; outline: 0\")\n",
       "\n",
       "    this.canvas = canvas[0];\n",
       "    this.context = canvas[0].getContext(\"2d\");\n",
       "\n",
       "    var rubberband = $('<canvas/>');\n",
       "    rubberband.attr('style', \"position: absolute; left: 0; top: 0; z-index: 1;\")\n",
       "\n",
       "    var pass_mouse_events = true;\n",
       "\n",
       "    canvas_div.resizable({\n",
       "        start: function(event, ui) {\n",
       "            pass_mouse_events = false;\n",
       "        },\n",
       "        resize: function(event, ui) {\n",
       "            fig.request_resize(ui.size.width, ui.size.height);\n",
       "        },\n",
       "        stop: function(event, ui) {\n",
       "            pass_mouse_events = true;\n",
       "            fig.request_resize(ui.size.width, ui.size.height);\n",
       "        },\n",
       "    });\n",
       "\n",
       "    function mouse_event_fn(event) {\n",
       "        if (pass_mouse_events)\n",
       "            return fig.mouse_event(event, event['data']);\n",
       "    }\n",
       "\n",
       "    rubberband.mousedown('button_press', mouse_event_fn);\n",
       "    rubberband.mouseup('button_release', mouse_event_fn);\n",
       "    // Throttle sequential mouse events to 1 every 20ms.\n",
       "    rubberband.mousemove('motion_notify', mouse_event_fn);\n",
       "\n",
       "    rubberband.mouseenter('figure_enter', mouse_event_fn);\n",
       "    rubberband.mouseleave('figure_leave', mouse_event_fn);\n",
       "\n",
       "    canvas_div.on(\"wheel\", function (event) {\n",
       "        event = event.originalEvent;\n",
       "        event['data'] = 'scroll'\n",
       "        if (event.deltaY < 0) {\n",
       "            event.step = 1;\n",
       "        } else {\n",
       "            event.step = -1;\n",
       "        }\n",
       "        mouse_event_fn(event);\n",
       "    });\n",
       "\n",
       "    canvas_div.append(canvas);\n",
       "    canvas_div.append(rubberband);\n",
       "\n",
       "    this.rubberband = rubberband;\n",
       "    this.rubberband_canvas = rubberband[0];\n",
       "    this.rubberband_context = rubberband[0].getContext(\"2d\");\n",
       "    this.rubberband_context.strokeStyle = \"#000000\";\n",
       "\n",
       "    this._resize_canvas = function(width, height) {\n",
       "        // Keep the size of the canvas, canvas container, and rubber band\n",
       "        // canvas in synch.\n",
       "        canvas_div.css('width', width)\n",
       "        canvas_div.css('height', height)\n",
       "\n",
       "        canvas.attr('width', width);\n",
       "        canvas.attr('height', height);\n",
       "\n",
       "        rubberband.attr('width', width);\n",
       "        rubberband.attr('height', height);\n",
       "    }\n",
       "\n",
       "    // Set the figure to an initial 600x600px, this will subsequently be updated\n",
       "    // upon first draw.\n",
       "    this._resize_canvas(600, 600);\n",
       "\n",
       "    // Disable right mouse context menu.\n",
       "    $(this.rubberband_canvas).bind(\"contextmenu\",function(e){\n",
       "        return false;\n",
       "    });\n",
       "\n",
       "    function set_focus () {\n",
       "        canvas.focus();\n",
       "        canvas_div.focus();\n",
       "    }\n",
       "\n",
       "    window.setTimeout(set_focus, 100);\n",
       "}\n",
       "\n",
       "mpl.figure.prototype._init_toolbar = function() {\n",
       "    var fig = this;\n",
       "\n",
       "    var nav_element = $('<div/>')\n",
       "    nav_element.attr('style', 'width: 100%');\n",
       "    this.root.append(nav_element);\n",
       "\n",
       "    // Define a callback function for later on.\n",
       "    function toolbar_event(event) {\n",
       "        return fig.toolbar_button_onclick(event['data']);\n",
       "    }\n",
       "    function toolbar_mouse_event(event) {\n",
       "        return fig.toolbar_button_onmouseover(event['data']);\n",
       "    }\n",
       "\n",
       "    for(var toolbar_ind in mpl.toolbar_items) {\n",
       "        var name = mpl.toolbar_items[toolbar_ind][0];\n",
       "        var tooltip = mpl.toolbar_items[toolbar_ind][1];\n",
       "        var image = mpl.toolbar_items[toolbar_ind][2];\n",
       "        var method_name = mpl.toolbar_items[toolbar_ind][3];\n",
       "\n",
       "        if (!name) {\n",
       "            // put a spacer in here.\n",
       "            continue;\n",
       "        }\n",
       "        var button = $('<button/>');\n",
       "        button.addClass('ui-button ui-widget ui-state-default ui-corner-all ' +\n",
       "                        'ui-button-icon-only');\n",
       "        button.attr('role', 'button');\n",
       "        button.attr('aria-disabled', 'false');\n",
       "        button.click(method_name, toolbar_event);\n",
       "        button.mouseover(tooltip, toolbar_mouse_event);\n",
       "\n",
       "        var icon_img = $('<span/>');\n",
       "        icon_img.addClass('ui-button-icon-primary ui-icon');\n",
       "        icon_img.addClass(image);\n",
       "        icon_img.addClass('ui-corner-all');\n",
       "\n",
       "        var tooltip_span = $('<span/>');\n",
       "        tooltip_span.addClass('ui-button-text');\n",
       "        tooltip_span.html(tooltip);\n",
       "\n",
       "        button.append(icon_img);\n",
       "        button.append(tooltip_span);\n",
       "\n",
       "        nav_element.append(button);\n",
       "    }\n",
       "\n",
       "    var fmt_picker_span = $('<span/>');\n",
       "\n",
       "    var fmt_picker = $('<select/>');\n",
       "    fmt_picker.addClass('mpl-toolbar-option ui-widget ui-widget-content');\n",
       "    fmt_picker_span.append(fmt_picker);\n",
       "    nav_element.append(fmt_picker_span);\n",
       "    this.format_dropdown = fmt_picker[0];\n",
       "\n",
       "    for (var ind in mpl.extensions) {\n",
       "        var fmt = mpl.extensions[ind];\n",
       "        var option = $(\n",
       "            '<option/>', {selected: fmt === mpl.default_extension}).html(fmt);\n",
       "        fmt_picker.append(option)\n",
       "    }\n",
       "\n",
       "    // Add hover states to the ui-buttons\n",
       "    $( \".ui-button\" ).hover(\n",
       "        function() { $(this).addClass(\"ui-state-hover\");},\n",
       "        function() { $(this).removeClass(\"ui-state-hover\");}\n",
       "    );\n",
       "\n",
       "    var status_bar = $('<span class=\"mpl-message\"/>');\n",
       "    nav_element.append(status_bar);\n",
       "    this.message = status_bar[0];\n",
       "}\n",
       "\n",
       "mpl.figure.prototype.request_resize = function(x_pixels, y_pixels) {\n",
       "    // Request matplotlib to resize the figure. Matplotlib will then trigger a resize in the client,\n",
       "    // which will in turn request a refresh of the image.\n",
       "    this.send_message('resize', {'width': x_pixels, 'height': y_pixels});\n",
       "}\n",
       "\n",
       "mpl.figure.prototype.send_message = function(type, properties) {\n",
       "    properties['type'] = type;\n",
       "    properties['figure_id'] = this.id;\n",
       "    this.ws.send(JSON.stringify(properties));\n",
       "}\n",
       "\n",
       "mpl.figure.prototype.send_draw_message = function() {\n",
       "    if (!this.waiting) {\n",
       "        this.waiting = true;\n",
       "        this.ws.send(JSON.stringify({type: \"draw\", figure_id: this.id}));\n",
       "    }\n",
       "}\n",
       "\n",
       "\n",
       "mpl.figure.prototype.handle_save = function(fig, msg) {\n",
       "    var format_dropdown = fig.format_dropdown;\n",
       "    var format = format_dropdown.options[format_dropdown.selectedIndex].value;\n",
       "    fig.ondownload(fig, format);\n",
       "}\n",
       "\n",
       "\n",
       "mpl.figure.prototype.handle_resize = function(fig, msg) {\n",
       "    var size = msg['size'];\n",
       "    if (size[0] != fig.canvas.width || size[1] != fig.canvas.height) {\n",
       "        fig._resize_canvas(size[0], size[1]);\n",
       "        fig.send_message(\"refresh\", {});\n",
       "    };\n",
       "}\n",
       "\n",
       "mpl.figure.prototype.handle_rubberband = function(fig, msg) {\n",
       "    var x0 = msg['x0'];\n",
       "    var y0 = fig.canvas.height - msg['y0'];\n",
       "    var x1 = msg['x1'];\n",
       "    var y1 = fig.canvas.height - msg['y1'];\n",
       "    x0 = Math.floor(x0) + 0.5;\n",
       "    y0 = Math.floor(y0) + 0.5;\n",
       "    x1 = Math.floor(x1) + 0.5;\n",
       "    y1 = Math.floor(y1) + 0.5;\n",
       "    var min_x = Math.min(x0, x1);\n",
       "    var min_y = Math.min(y0, y1);\n",
       "    var width = Math.abs(x1 - x0);\n",
       "    var height = Math.abs(y1 - y0);\n",
       "\n",
       "    fig.rubberband_context.clearRect(\n",
       "        0, 0, fig.canvas.width, fig.canvas.height);\n",
       "\n",
       "    fig.rubberband_context.strokeRect(min_x, min_y, width, height);\n",
       "}\n",
       "\n",
       "mpl.figure.prototype.handle_figure_label = function(fig, msg) {\n",
       "    // Updates the figure title.\n",
       "    fig.header.textContent = msg['label'];\n",
       "}\n",
       "\n",
       "mpl.figure.prototype.handle_cursor = function(fig, msg) {\n",
       "    var cursor = msg['cursor'];\n",
       "    switch(cursor)\n",
       "    {\n",
       "    case 0:\n",
       "        cursor = 'pointer';\n",
       "        break;\n",
       "    case 1:\n",
       "        cursor = 'default';\n",
       "        break;\n",
       "    case 2:\n",
       "        cursor = 'crosshair';\n",
       "        break;\n",
       "    case 3:\n",
       "        cursor = 'move';\n",
       "        break;\n",
       "    }\n",
       "    fig.rubberband_canvas.style.cursor = cursor;\n",
       "}\n",
       "\n",
       "mpl.figure.prototype.handle_message = function(fig, msg) {\n",
       "    fig.message.textContent = msg['message'];\n",
       "}\n",
       "\n",
       "mpl.figure.prototype.handle_draw = function(fig, msg) {\n",
       "    // Request the server to send over a new figure.\n",
       "    fig.send_draw_message();\n",
       "}\n",
       "\n",
       "mpl.figure.prototype.handle_image_mode = function(fig, msg) {\n",
       "    fig.image_mode = msg['mode'];\n",
       "}\n",
       "\n",
       "mpl.figure.prototype.updated_canvas_event = function() {\n",
       "    // Called whenever the canvas gets updated.\n",
       "    this.send_message(\"ack\", {});\n",
       "}\n",
       "\n",
       "// A function to construct a web socket function for onmessage handling.\n",
       "// Called in the figure constructor.\n",
       "mpl.figure.prototype._make_on_message_function = function(fig) {\n",
       "    return function socket_on_message(evt) {\n",
       "        if (evt.data instanceof Blob) {\n",
       "            /* FIXME: We get \"Resource interpreted as Image but\n",
       "             * transferred with MIME type text/plain:\" errors on\n",
       "             * Chrome.  But how to set the MIME type?  It doesn't seem\n",
       "             * to be part of the websocket stream */\n",
       "            evt.data.type = \"image/png\";\n",
       "\n",
       "            /* Free the memory for the previous frames */\n",
       "            if (fig.imageObj.src) {\n",
       "                (window.URL || window.webkitURL).revokeObjectURL(\n",
       "                    fig.imageObj.src);\n",
       "            }\n",
       "\n",
       "            fig.imageObj.src = (window.URL || window.webkitURL).createObjectURL(\n",
       "                evt.data);\n",
       "            fig.updated_canvas_event();\n",
       "            fig.waiting = false;\n",
       "            return;\n",
       "        }\n",
       "        else if (typeof evt.data === 'string' && evt.data.slice(0, 21) == \"data:image/png;base64\") {\n",
       "            fig.imageObj.src = evt.data;\n",
       "            fig.updated_canvas_event();\n",
       "            fig.waiting = false;\n",
       "            return;\n",
       "        }\n",
       "\n",
       "        var msg = JSON.parse(evt.data);\n",
       "        var msg_type = msg['type'];\n",
       "\n",
       "        // Call the  \"handle_{type}\" callback, which takes\n",
       "        // the figure and JSON message as its only arguments.\n",
       "        try {\n",
       "            var callback = fig[\"handle_\" + msg_type];\n",
       "        } catch (e) {\n",
       "            console.log(\"No handler for the '\" + msg_type + \"' message type: \", msg);\n",
       "            return;\n",
       "        }\n",
       "\n",
       "        if (callback) {\n",
       "            try {\n",
       "                // console.log(\"Handling '\" + msg_type + \"' message: \", msg);\n",
       "                callback(fig, msg);\n",
       "            } catch (e) {\n",
       "                console.log(\"Exception inside the 'handler_\" + msg_type + \"' callback:\", e, e.stack, msg);\n",
       "            }\n",
       "        }\n",
       "    };\n",
       "}\n",
       "\n",
       "// from http://stackoverflow.com/questions/1114465/getting-mouse-location-in-canvas\n",
       "mpl.findpos = function(e) {\n",
       "    //this section is from http://www.quirksmode.org/js/events_properties.html\n",
       "    var targ;\n",
       "    if (!e)\n",
       "        e = window.event;\n",
       "    if (e.target)\n",
       "        targ = e.target;\n",
       "    else if (e.srcElement)\n",
       "        targ = e.srcElement;\n",
       "    if (targ.nodeType == 3) // defeat Safari bug\n",
       "        targ = targ.parentNode;\n",
       "\n",
       "    // jQuery normalizes the pageX and pageY\n",
       "    // pageX,Y are the mouse positions relative to the document\n",
       "    // offset() returns the position of the element relative to the document\n",
       "    var x = e.pageX - $(targ).offset().left;\n",
       "    var y = e.pageY - $(targ).offset().top;\n",
       "\n",
       "    return {\"x\": x, \"y\": y};\n",
       "};\n",
       "\n",
       "/*\n",
       " * return a copy of an object with only non-object keys\n",
       " * we need this to avoid circular references\n",
       " * http://stackoverflow.com/a/24161582/3208463\n",
       " */\n",
       "function simpleKeys (original) {\n",
       "  return Object.keys(original).reduce(function (obj, key) {\n",
       "    if (typeof original[key] !== 'object')\n",
       "        obj[key] = original[key]\n",
       "    return obj;\n",
       "  }, {});\n",
       "}\n",
       "\n",
       "mpl.figure.prototype.mouse_event = function(event, name) {\n",
       "    var canvas_pos = mpl.findpos(event)\n",
       "\n",
       "    if (name === 'button_press')\n",
       "    {\n",
       "        this.canvas.focus();\n",
       "        this.canvas_div.focus();\n",
       "    }\n",
       "\n",
       "    var x = canvas_pos.x;\n",
       "    var y = canvas_pos.y;\n",
       "\n",
       "    this.send_message(name, {x: x, y: y, button: event.button,\n",
       "                             step: event.step,\n",
       "                             guiEvent: simpleKeys(event)});\n",
       "\n",
       "    /* This prevents the web browser from automatically changing to\n",
       "     * the text insertion cursor when the button is pressed.  We want\n",
       "     * to control all of the cursor setting manually through the\n",
       "     * 'cursor' event from matplotlib */\n",
       "    event.preventDefault();\n",
       "    return false;\n",
       "}\n",
       "\n",
       "mpl.figure.prototype._key_event_extra = function(event, name) {\n",
       "    // Handle any extra behaviour associated with a key event\n",
       "}\n",
       "\n",
       "mpl.figure.prototype.key_event = function(event, name) {\n",
       "\n",
       "    // Prevent repeat events\n",
       "    if (name == 'key_press')\n",
       "    {\n",
       "        if (event.which === this._key)\n",
       "            return;\n",
       "        else\n",
       "            this._key = event.which;\n",
       "    }\n",
       "    if (name == 'key_release')\n",
       "        this._key = null;\n",
       "\n",
       "    var value = '';\n",
       "    if (event.ctrlKey && event.which != 17)\n",
       "        value += \"ctrl+\";\n",
       "    if (event.altKey && event.which != 18)\n",
       "        value += \"alt+\";\n",
       "    if (event.shiftKey && event.which != 16)\n",
       "        value += \"shift+\";\n",
       "\n",
       "    value += 'k';\n",
       "    value += event.which.toString();\n",
       "\n",
       "    this._key_event_extra(event, name);\n",
       "\n",
       "    this.send_message(name, {key: value,\n",
       "                             guiEvent: simpleKeys(event)});\n",
       "    return false;\n",
       "}\n",
       "\n",
       "mpl.figure.prototype.toolbar_button_onclick = function(name) {\n",
       "    if (name == 'download') {\n",
       "        this.handle_save(this, null);\n",
       "    } else {\n",
       "        this.send_message(\"toolbar_button\", {name: name});\n",
       "    }\n",
       "};\n",
       "\n",
       "mpl.figure.prototype.toolbar_button_onmouseover = function(tooltip) {\n",
       "    this.message.textContent = tooltip;\n",
       "};\n",
       "mpl.toolbar_items = [[\"Home\", \"Reset original view\", \"fa fa-home icon-home\", \"home\"], [\"Back\", \"Back to  previous view\", \"fa fa-arrow-left icon-arrow-left\", \"back\"], [\"Forward\", \"Forward to next view\", \"fa fa-arrow-right icon-arrow-right\", \"forward\"], [\"\", \"\", \"\", \"\"], [\"Pan\", \"Pan axes with left mouse, zoom with right\", \"fa fa-arrows icon-move\", \"pan\"], [\"Zoom\", \"Zoom to rectangle\", \"fa fa-square-o icon-check-empty\", \"zoom\"], [\"\", \"\", \"\", \"\"], [\"Download\", \"Download plot\", \"fa fa-floppy-o icon-save\", \"download\"]];\n",
       "\n",
       "mpl.extensions = [\"eps\", \"jpeg\", \"pdf\", \"png\", \"ps\", \"raw\", \"svg\", \"tif\"];\n",
       "\n",
       "mpl.default_extension = \"png\";var comm_websocket_adapter = function(comm) {\n",
       "    // Create a \"websocket\"-like object which calls the given IPython comm\n",
       "    // object with the appropriate methods. Currently this is a non binary\n",
       "    // socket, so there is still some room for performance tuning.\n",
       "    var ws = {};\n",
       "\n",
       "    ws.close = function() {\n",
       "        comm.close()\n",
       "    };\n",
       "    ws.send = function(m) {\n",
       "        //console.log('sending', m);\n",
       "        comm.send(m);\n",
       "    };\n",
       "    // Register the callback with on_msg.\n",
       "    comm.on_msg(function(msg) {\n",
       "        //console.log('receiving', msg['content']['data'], msg);\n",
       "        // Pass the mpl event to the overriden (by mpl) onmessage function.\n",
       "        ws.onmessage(msg['content']['data'])\n",
       "    });\n",
       "    return ws;\n",
       "}\n",
       "\n",
       "mpl.mpl_figure_comm = function(comm, msg) {\n",
       "    // This is the function which gets called when the mpl process\n",
       "    // starts-up an IPython Comm through the \"matplotlib\" channel.\n",
       "\n",
       "    var id = msg.content.data.id;\n",
       "    // Get hold of the div created by the display call when the Comm\n",
       "    // socket was opened in Python.\n",
       "    var element = $(\"#\" + id);\n",
       "    var ws_proxy = comm_websocket_adapter(comm)\n",
       "\n",
       "    function ondownload(figure, format) {\n",
       "        window.open(figure.imageObj.src);\n",
       "    }\n",
       "\n",
       "    var fig = new mpl.figure(id, ws_proxy,\n",
       "                           ondownload,\n",
       "                           element.get(0));\n",
       "\n",
       "    // Call onopen now - mpl needs it, as it is assuming we've passed it a real\n",
       "    // web socket which is closed, not our websocket->open comm proxy.\n",
       "    ws_proxy.onopen();\n",
       "\n",
       "    fig.parent_element = element.get(0);\n",
       "    fig.cell_info = mpl.find_output_cell(\"<div id='\" + id + \"'></div>\");\n",
       "    if (!fig.cell_info) {\n",
       "        console.error(\"Failed to find cell for figure\", id, fig);\n",
       "        return;\n",
       "    }\n",
       "\n",
       "    var output_index = fig.cell_info[2]\n",
       "    var cell = fig.cell_info[0];\n",
       "\n",
       "};\n",
       "\n",
       "mpl.figure.prototype.handle_close = function(fig, msg) {\n",
       "    fig.root.unbind('remove')\n",
       "\n",
       "    // Update the output cell to use the data from the current canvas.\n",
       "    fig.push_to_output();\n",
       "    var dataURL = fig.canvas.toDataURL();\n",
       "    // Re-enable the keyboard manager in IPython - without this line, in FF,\n",
       "    // the notebook keyboard shortcuts fail.\n",
       "    IPython.keyboard_manager.enable()\n",
       "    $(fig.parent_element).html('<img src=\"' + dataURL + '\">');\n",
       "    fig.close_ws(fig, msg);\n",
       "}\n",
       "\n",
       "mpl.figure.prototype.close_ws = function(fig, msg){\n",
       "    fig.send_message('closing', msg);\n",
       "    // fig.ws.close()\n",
       "}\n",
       "\n",
       "mpl.figure.prototype.push_to_output = function(remove_interactive) {\n",
       "    // Turn the data on the canvas into data in the output cell.\n",
       "    var dataURL = this.canvas.toDataURL();\n",
       "    this.cell_info[1]['text/html'] = '<img src=\"' + dataURL + '\">';\n",
       "}\n",
       "\n",
       "mpl.figure.prototype.updated_canvas_event = function() {\n",
       "    // Tell IPython that the notebook contents must change.\n",
       "    IPython.notebook.set_dirty(true);\n",
       "    this.send_message(\"ack\", {});\n",
       "    var fig = this;\n",
       "    // Wait a second, then push the new image to the DOM so\n",
       "    // that it is saved nicely (might be nice to debounce this).\n",
       "    setTimeout(function () { fig.push_to_output() }, 1000);\n",
       "}\n",
       "\n",
       "mpl.figure.prototype._init_toolbar = function() {\n",
       "    var fig = this;\n",
       "\n",
       "    var nav_element = $('<div/>')\n",
       "    nav_element.attr('style', 'width: 100%');\n",
       "    this.root.append(nav_element);\n",
       "\n",
       "    // Define a callback function for later on.\n",
       "    function toolbar_event(event) {\n",
       "        return fig.toolbar_button_onclick(event['data']);\n",
       "    }\n",
       "    function toolbar_mouse_event(event) {\n",
       "        return fig.toolbar_button_onmouseover(event['data']);\n",
       "    }\n",
       "\n",
       "    for(var toolbar_ind in mpl.toolbar_items){\n",
       "        var name = mpl.toolbar_items[toolbar_ind][0];\n",
       "        var tooltip = mpl.toolbar_items[toolbar_ind][1];\n",
       "        var image = mpl.toolbar_items[toolbar_ind][2];\n",
       "        var method_name = mpl.toolbar_items[toolbar_ind][3];\n",
       "\n",
       "        if (!name) { continue; };\n",
       "\n",
       "        var button = $('<button class=\"btn btn-default\" href=\"#\" title=\"' + name + '\"><i class=\"fa ' + image + ' fa-lg\"></i></button>');\n",
       "        button.click(method_name, toolbar_event);\n",
       "        button.mouseover(tooltip, toolbar_mouse_event);\n",
       "        nav_element.append(button);\n",
       "    }\n",
       "\n",
       "    // Add the status bar.\n",
       "    var status_bar = $('<span class=\"mpl-message\" style=\"text-align:right; float: right;\"/>');\n",
       "    nav_element.append(status_bar);\n",
       "    this.message = status_bar[0];\n",
       "\n",
       "    // Add the close button to the window.\n",
       "    var buttongrp = $('<div class=\"btn-group inline pull-right\"></div>');\n",
       "    var button = $('<button class=\"btn btn-mini btn-primary\" href=\"#\" title=\"Stop Interaction\"><i class=\"fa fa-power-off icon-remove icon-large\"></i></button>');\n",
       "    button.click(function (evt) { fig.handle_close(fig, {}); } );\n",
       "    button.mouseover('Stop Interaction', toolbar_mouse_event);\n",
       "    buttongrp.append(button);\n",
       "    var titlebar = this.root.find($('.ui-dialog-titlebar'));\n",
       "    titlebar.prepend(buttongrp);\n",
       "}\n",
       "\n",
       "mpl.figure.prototype._root_extra_style = function(el){\n",
       "    var fig = this\n",
       "    el.on(\"remove\", function(){\n",
       "\tfig.close_ws(fig, {});\n",
       "    });\n",
       "}\n",
       "\n",
       "mpl.figure.prototype._canvas_extra_style = function(el){\n",
       "    // this is important to make the div 'focusable\n",
       "    el.attr('tabindex', 0)\n",
       "    // reach out to IPython and tell the keyboard manager to turn it's self\n",
       "    // off when our div gets focus\n",
       "\n",
       "    // location in version 3\n",
       "    if (IPython.notebook.keyboard_manager) {\n",
       "        IPython.notebook.keyboard_manager.register_events(el);\n",
       "    }\n",
       "    else {\n",
       "        // location in version 2\n",
       "        IPython.keyboard_manager.register_events(el);\n",
       "    }\n",
       "\n",
       "}\n",
       "\n",
       "mpl.figure.prototype._key_event_extra = function(event, name) {\n",
       "    var manager = IPython.notebook.keyboard_manager;\n",
       "    if (!manager)\n",
       "        manager = IPython.keyboard_manager;\n",
       "\n",
       "    // Check for shift+enter\n",
       "    if (event.shiftKey && event.which == 13) {\n",
       "        this.canvas_div.blur();\n",
       "        // select the cell after this one\n",
       "        var index = IPython.notebook.find_cell_index(this.cell_info[0]);\n",
       "        IPython.notebook.select(index + 1);\n",
       "    }\n",
       "}\n",
       "\n",
       "mpl.figure.prototype.handle_save = function(fig, msg) {\n",
       "    fig.ondownload(fig, null);\n",
       "}\n",
       "\n",
       "\n",
       "mpl.find_output_cell = function(html_output) {\n",
       "    // Return the cell and output element which can be found *uniquely* in the notebook.\n",
       "    // Note - this is a bit hacky, but it is done because the \"notebook_saving.Notebook\"\n",
       "    // IPython event is triggered only after the cells have been serialised, which for\n",
       "    // our purposes (turning an active figure into a static one), is too late.\n",
       "    var cells = IPython.notebook.get_cells();\n",
       "    var ncells = cells.length;\n",
       "    for (var i=0; i<ncells; i++) {\n",
       "        var cell = cells[i];\n",
       "        if (cell.cell_type === 'code'){\n",
       "            for (var j=0; j<cell.output_area.outputs.length; j++) {\n",
       "                var data = cell.output_area.outputs[j];\n",
       "                if (data.data) {\n",
       "                    // IPython >= 3 moved mimebundle to data attribute of output\n",
       "                    data = data.data;\n",
       "                }\n",
       "                if (data['text/html'] == html_output) {\n",
       "                    return [cell, data, j];\n",
       "                }\n",
       "            }\n",
       "        }\n",
       "    }\n",
       "}\n",
       "\n",
       "// Register the function which deals with the matplotlib target/channel.\n",
       "// The kernel may be null if the page has been refreshed.\n",
       "if (IPython.notebook.kernel != null) {\n",
       "    IPython.notebook.kernel.comm_manager.register_target('matplotlib', mpl.mpl_figure_comm);\n",
       "}\n"
      ],
      "text/plain": [
       "<IPython.core.display.Javascript object>"
      ]
     },
     "metadata": {},
     "output_type": "display_data"
    },
    {
     "data": {
      "text/html": [
       "<img src=\"data:image/png;base64,iVBORw0KGgoAAAANSUhEUgAAAoAAAAHgCAYAAAA10dzkAAAAAXNSR0IArs4c6QAAQABJREFUeAHsvQmcHVWBtl/p7BA6IaxZICESUZYs4IiIEELAJDOjKDCCK2HT8Y+joyMzkFFwG3DEcfk+Zz4HQUFA4RtERj9JB5FFnXHBYYksChjCFvaQdAhLIN3/9617T2519b2d7r51b93lOb/f21V1quqcU091337vWaOIAAEIQAACEIAABCAAAQhAAAIQgAAEIAABCEAAAhCAAAQgAAEIQAACEIAABCAAAQhAAAIQgAAEIAABCEAAAhCAAAQgAAEIQAACEIAABCAAAQhAAAIQgAAEIAABCEAAAhCAAAQgAAEIQAACEIAABCAAAQhAAAIQgAAEIAABCEAAAhCAAAQgAAEIQAACEIAABCAAAQhAAAIQgAAEIAABCEAAAhCAAAQgAAEIQAACEIAABCAAAQhAAAIQgAAEIAABCEAAAhCAAAQgAAEIQAACEIAABCAAAQhAAAIQgAAEIAABCEAAAhCAAAQgAAEIQAACEIAABCAAAQhAAAIQgAAEIAABCEAAAhCAAAQgAAEIQAACEIAABCAAAQhAAAIQgAAEIAABCEAAAhCAAAQgAAEIQAACEIAABCAAAQhAAAIQgAAEIAABCEAAAhCAAAQgAAEIQAACEIAABCAAAQhAAAIQgAAEIAABCEAAAhCAAAQgAAEIQAACEIAABCAAAQhAAAIQgAAEIAABCEAAAhCAAAQgAAEIQAACEIAABCAAAQhAAALtR+AQPfL3pUekl6UN0m+lz0i7S3mEBcq0RzpymJmfq/uOKHPvdxS3OhE/Q/u+dmYiLuyu0c63w0GV25N0v59nVpXpcDsEIACBAQl0DHiWkxCAAAQKBP5Om19KO0v/KC2STpC6pA9JF0t5hd4qMrapK2ceP6f4dybSnal9X1vOmFWTfyKLrbtZp7c1YXYgAAEIBAKjwg5bCEAAAhUILFT8l6SvSp9MXWMDeL70V6n49KE/a15NR2Z0PCKjdJLJPJg80L7zaBVjNkbPsjn1fBxCAAIQgAAEIACBPgRs8p6QBvuFcYaudTPmh6V/lh6TbP4mSq5B/Kb0R2mT9LB0hTRVSobP6MBp7C/dKPnatdJnpWRYoIMt0tuk/y09XdRl2nZKAwWn73u9DfvnFG+4RNtgAp1HOJ+89vDitb7u28X9sJmpHT/XU9JL0u3SO6RthZN0gct0sHS55GZ28/u6ZOOWDON1YL6rJTfJe7tcShriUHbXZl4ouTzrpBDmaudHkuNekH4pvUUiQAACEIAABCDQxgRG6tltDGyoBhtm6MIe6RHpGunPJRu0sdJrJZuZ46TDpHdJv5FsXpIG51wdO437pbOlo6QLJMedI4UQDM6fFOF0fd0Zksv8HWmg8EaddHoXS963ghH1vaslhx2kD0s2Zv+fFK6doH2HB6Vvx3uFH9O1sdFaJb1bOlq6SPL9fykNFE7SSZfJBvkzkpun3eRuA32uFILfyy8kG96/kRZK5vSiZE4hLNCO0/O7sAF8q/R2yeFA6Xnp59Kx0hLpPyUb1vkSAQIQgAAEIACBNiWwq57bBuKfyjy/TUhS4ZIZ2vE9t4aIAbYdOmfD5OuPSVxns2PDdGYizrs2MRukTh8oBIPz7cLh1p+uDXxh61HlHef7uTKnv6O41Yn4kI8NWTo8qIhk/jaUT0qTUhder+PbUnHpw5MU4TKdkzrxYx3/IRH3fu2bz6GJOO8ul2zgXNPqEMp9deGwz8+f6eguye8wBNce3iPZuBMgAIEWJuAPXwIEIACBoRLYTTe8Im1ObNOfJ65NKhdcm3aHtFFyzdbDUq+0j5QO/5GKuFLHrnnbPxV/Xer49zp2jaMNbL3DYmXo8vj5gkEepX0bQDe5uvwDBbMo9zx7Jm5yHg9Jv5ZCHt7+VHJN6pukZLg2eaD9cdLhUjCGyTRuKJ7ThgABCLQqAX8oESAAAQhUIvCsTrhGKWk+fO0z0hu8o/Ah6bR4r++Px/sexkdurvy69GXJhug5ycbRzcA2JengmrRk8LFrqaYlI7W/LnX8cvG4XJqpSzM/tOn8gOTavHToUcROkpteBwrlnmds4gbnMVOyCU8HG0jnkQzpdzFZJ236Pi2dk7ywuO9yEiAAgRYmgAFs4ZfLo0EgAwJuZvy55H5s/rxwjZ2D40Nz5to4pv8PG5F08NQxrmH6+8SJmYn99K5rGtckIn3s4IER9Q7lnqdcGWyazeyLks1qOlTilb5uoGPnsVry6OtyeaxRfDKky75eJ23yviFdKpVLQ9EECECgVQlgAFv1zfJcEMiOwJeUlGvrvP1EmWSHYh620/3uw5cMp+ggbVDC+Xdpx/mG4EEVblr9fYjQttK9iUsq7roJe3zFs6UTrlH0cw7m2i5d5ybYe6RQE6ndTIPz8MANj46+bxspl+Pzgu75heQm6du3cT+nIQCBFiSAAWzBl8ojQSBjAjcqvbOl86U50nelByU3r75Wcq2emzTLGQ1F9wk2Lq79c3q/lY6UjpfKBRuu0yU3VXpAyRLJZvFcySYwhKEY0HBP2Nqk/YW0UnJztGvn0s2liopNlms/nb+vs7H7g2QDlg7nKOI3kg2Wa9jWSDtK+0t7SadJ1YYrlMAyye/mX6Q7pTHS3tLbpGOklySHSnxs5m+RbO4vlvzcO0sHSh3ScokAAQhAAAIQgECbEzhEz3+l9Ihkc+FmRBsdG7LQNKvdaIbkJmKbpXSwafxX6UnJNYH/KYXrP639EJym09hXssmx0bI5+4yUDAt04OuOTEZq/6Ri/J6p+PShn8nm0jViTsfmzeE70p/ivdIPm9EHJNca+trDJYfV0sXxXunHVO1eKAVWbrK2yXyPNFAI5Z6VuuhcHYfm93DKhs/ltYl9UXK/TL+PT0s2cA4LJJc1zcfnHPaRvic9ITmNhyUPGLHZJkAAAhCAAAQgAIG6ErDhsXEJRqaumZMZBCAAgVYnwIdrq79hng8CEIAABCAAAQikCGAAU0A4hAAEGoZAb8OUhIJAAAIQgAAEIAABCEAAAhCAAAQgAAEIQAACEIAABCAAgaYhUGl6gKZ5gJwLan4e7ZeckiLnIpE9BCAAAQhAAAKDILCDrvHsAm3Z3YR5AAfxGzLAJTZ/jw5wnlMQgAAEIAABCDQugekqmqdparuAAazulcc1f4888kjU2dlZXUrcHS1fvjw677zzIFElAThWCTBxOywTMKrchWWVAIu3wzEbjt3d3dEee+zhxNq2BQ8DmMHvks0fBrB6kGPGjIFj9RgjOGYAsZgELGGZHYFsUuJ3MhuOpMIkq/wOQAACEIAABCAAgbYjwDyAbffKG/eBFy9e3LiFa6KSwTG7lwVLWGZHIJuU+J3MhiOpVF4kHDaDI+COfxsUaLocHC+uggAEIAABCOROwH0AJ06c6HL4R3fuBcqhANQA5gCdLCEAAQhAAAIQgECeBDCAedInbwhAAAIQgAAEIJADAQxgDtDJEgIQgAAEIAABCORJAAOYJ33yhgAEIAABCEAAAjkQwADmAJ0sIQABCEAAAhCAQJ4EMIB50idvCEAAAhCAAAQgkAMBDGAO0MkSAhCAAAQgAAEI5EkAA5gnffKGAAQgAAEIQAACORDAAOYAnSwhAAEIQAACEIBAngQwgHnSJ28IQAACEIAABCCQAwEMYA7QyRICEIAABCAAAQjkSQADmCd98oYABCAAAQhAAAI5EMAA5gCdLCEAAQhAAAIQgECeBDCAedInbwhAAAIQgAAEIJADAQxgDtDJEgIQgAAEIAABCORJAAOYJ33yhgAEIAABCEAAAjkQwADmAJ0sIQABCEAAAhCAQJ4EMIB50idvCEAAAhCAAAQgkAMBDGAO0MkSAhCAAAQgAAEI5EkAA5gnffKGAAQgAAEIQAACORDAAOYAnSwhAAEIQAACEIBAngQwgHnSJ28IQAACEIAABCCQAwEMYA7QyRICEIAABCAAAQjkSQADmCd98oYABCAAAQhAAAI5EMAA5gCdLCEAAQhAAAIQgECeBDCAedInbwhAAAIQgAAEIJADAQxgDtDJEgIQgAAEIAABCORJoFUM4GcF8TFpo3SztJ9UKUzSiSuk9dI66TJpolQufEyRPdLnyp0kDgIQgAAEIAABCDQjgVYwgGcK/DLpaGln6b+lldJ2Urlg87eLtJe0t7S7dKmUDvso4qPSqvQJjiEAAQhAAAIQgEAzE2gFA/hhvYALpHukl6VPS6Old0rpsKcilkqfkJ6TXAP4d9LbpelSCOZiU/hxydcRIAABCEAAAhCAQMsQaHYD2Kk3MVO6NfFGtmj/Dml+Ii7sztPOS9JdIUJb1/BtlnwuhOXauV/6UYhgCwEIQAACEIAABFqFwKgmfxAbQAf350sG19qFc8l4x21IRhT3fX+43kbwNClpCIuXsYEABCAAAQhAAALNT6DZDWB38RVMSr2KHXX8aCrOh75+Ypl4329jaB5u+v1bab00qLB8+fJozJgx8bWLFy+OLAIEIAABCEAAAo1DYOXKlZHlsHmzG/7aO4xogcdfrWf4ivSN4rOM1PZx6eOSB3wkg/sAPijNlUIzsPdvk2ZIvtfpPSsFNjaMrxTjD9A2GeIaxQ0bNkSdnaECMXmafQhAAAIQgAAEGo1Ad3d3NHFiXB/kH6EyqdGKWdPyNHsNoOH8m/RJ6SbJ5u0cyYNBfiilw8OKuE76svReySbP++7r5xpD94ncQ0qGq3XwG+mLyUj2IQABCEAAAhCAQLMSaPZBIOZuA3eJdIP0tHSItER6QbKZ89yAh0ohvF87z0h/kjzQw7WFJ0kOPdLalDxoxGk8KREgAAEIQAACEIBA0xMIzZxN/yA5PQBNwDmBJ1sIQAACEIDAcAnQBFxo8hwuP+6DAAQgAAEIQAACEGhCAq3QBNyE2CkyBCAAAQhAAAIQyI8ABjA/9uQMAQhAAAIQgAAEciGAAcwFO5lCAAIQgAAEIACB/AhgAPNjT84QgAAEIAABCEAgFwIYwFywkykEIAABCEAAAhDIjwAGMD/25AwBCORAwCv3LF26NJo2bVq89TEBAhCAQLsRaIWVQNrtnfG8EIDAMAnY7E2ePD3q6fEUnkuitWu74uN16x4Ny0INM2VugwAEINBcBKgBbK73RWkhAIEqCJx44olF83efUrlYuk/HO0SOJ0AAAhBoJwIYwHZ62zwrBNqcwKpVq0TAK0VuXyTh7dKoEF+MYgMBCECgDQhgANvgJfOIEIBAgcCcOXO00yVtKiLxdkVUiC9GsYEABCDQBgRYC7i6l8xawNXx424I1JVAqQ/gDsp3qbQi6ujYGNEHsK6vgcwgkDsB1gJmLeDcfwkpAAQgUD8CEydOjM3ekiVzo6lTuyJvMX/1409OEIBA4xCgBrC6d0ENYHX8uBsCEIAABCBQdwLUAFIDWPdfOjKEAAQgAAEIQAACeRNgEEjeb4D8IQABCEAAAhCAQJ0JYADrDJzsIAABCEAAAhCAQN4EMIB5vwHyhwAEIAABCEAAAnUmgAGsM3CygwAEIAABCEAAAnkTwADm/QbIHwIQgAAEIAABCNSZAAawzsDJDgIQgAAEIAABCORNAAOY9xsgfwhAAAIQgAAEIFBnAhjAOgMnOwhAAAIQgAAEIJA3AQxg3m+A/CEAgZYl4LWHly5dGk2bNi3e+pgAAQhAoBEIjGqEQlAGCEAAAq1GwGZv8uTpUU+PV4xcEq1d2xUfs/Zwq71pngcCzUmAGsDmfG+UGgIQaHACJ554YtH83aeSXizdp+MdIscTIAABCORNAAOY9xsgfwhAoCUJrFq1Ss+1RNq++HzeLo0K8cUoNhCAAARyIoABzAk82UIAAq1NYM6cOXrALmlT8UG9XREV4otRbCAAAQjkRGBETvm2Srbu3KOuPhuizk7vEiAAAQgUCJT6AO6giKXSiqijY2NEH0B+QyCQP4Hu7u5o4sSJLoh/dOdfovqXgBrA+jMnRwhAoA0I+J+Lzd6SJXOjqVO74i3mrw1ePI8IgSYhQA1gdS+KGsDq+HE3BCAAAQhAoO4EqAGMImoA6/5rR4YQgAAEIAABCEAgXwIYwHz5kzsEIAABCEAAAhCoOwEMYN2RkyEEIAABCEAAAhDIlwAGMF/+5A4BCEAAAhCAAATqTgADWHfkZAgBCEAAAhCAAATyJYABzJc/uUMAAhCAAAQgAIG6E8AA1h05GUIAAhCAAAQgAIF8CWAA8+VP7hCAAAQgAAEIQKDuBDCAdUdOhhCAAAQgAAEIQCBfAhjAfPmTOwQgAAEIQAACEKg7AQxg3ZGTIQQgAAEIQAACEMiXAAYwX/7kDgEIQAACEIAABOpOAANYd+RkCAEIQAACEIAABPIlgAHMlz+5QwACEIAABCAAgboTwADWHTkZQgACEIAABCAAgXwJYADz5U/uEIAABCAAAQhAoO4EMIB1R06GEIAABCAAAQhAIF8CGMB8+ZM7BCAAAQhAAAIQqDsBDGDdkZMhBCAAAQhAAAIQyJcABjBf/uQOAQhAAAIQgAAE6k4AA1h35GQIAQhAAAIQgAAE8iWAAcyXP7lDAAIQgAAEIACBuhPAANYdORlCAAIQgAAEIACBfAlgAPPlT+4QgAAEIAABCECg7gQwgHVHToYQgAAEIAABCEAgXwIYwHz5kzsEIAABCEAAAhCoOwEMYN2RkyEEIAABCEAAAhDIlwAGMF/+5A4BCEAAAhCAAATqTgADWHfkZAgBCEAAAhCAAATyJYABzJc/uUMAAhCAAAQgAIG6E8AA1h05GUIAAhCAAAQgAIF8CWAA8+VP7hCAAAQgAAEIQKDuBDCAdUdOhhCAAAQgAAEIQCBfAhjAfPmTOwQgAAEIQAACEKg7AQxg3ZGTIQQgAAEIQAACEMiXAAYwX/7kDgEIQAACEIAABOpOoFUM4GdF7jFpo3SztJ9UKUzSiSuk9dI66TJpohTC+7XzS+lZ6WnpRunNEgECEIAABCAAAQi0BIFWMIBn6k0sk46Wdpb+W1opbSeVCzZ/u0h7SXtLu0uXSiFM0I4N5Z6Sz/2n1CVNlQgQgAAEIAABCECg6QmMaPoniKLVeoavSN8oPstIbddKn5Bs9pLBpm6NNEe6S3Lw/h2Szz0qlQvPKXKZZDOYDJ062KAQdXZ6lwABCEAAAhCAQKMT6O7ujiZOjBv//KO70ctbi/I1ew2gXddM6dYEnC3at6Gbn4gLu/O085IUzJ/jV0mbJZ8rFw5W5PbSneVOEgcBCEAAAhCAAASajUArGEAzX58C7xq7clVycY1d6lof+v5y1++h+Cul86U1EgECEIAABCAAAQg0PYFRTf4Eodp2Uuo5dtRxueZcXx/X+aau9/0hrXDK/QOvl2wAzw2R5bbLly+PxowZE59avHhxZBEgAAEIQAACEGgcAitXrowsh82b3fDX3qFV+wA+rtf6calcH8AHFT9XCs3A3r9NmiEF0zhH+x744X6F50mVQlyjSB/ASniIhwAEIAABCDQeAfoARlGzNwH7t+rfpE9KnvplvPQF6WXph1I6PKyI66QvSztJOxf3f6RtMH9v1v5N0helgcyfThMgAAEIQAACEIBA8xFoBQNoM3eJdIPkefsOkZZIL0juw+e5AQ+VQvA8f89If5Lul1xbeJIUgg2km4m99b2Wm4fPkggQgAAEIAABCECg6Qm0QhNwni+BJuA86ZM3BCAAAQhAYBgEaAJujSbgYbx6boEABCAAAQhAAALtS6AVmoDb9+3x5BCAAAQgAAEIQGAYBDCAw4DGLRCAAAQgAAEIQKCZCWAAm/ntUXYIQAACEIAABCAwDAIYwGFA4xYIQAACEIAABCDQzAQwgM389ig7BCAAAQhAAAIQGAaBUcO4Z6BbZunkQdIOqYu+nTrmEAIQgAAEIAABCEAgJwJZGsC/1jN46bR10qbE8/RqHwOYAMIuBCAAAQhAAAIQyJNAlgbwbD3Iu6Rr8nwg8oYABCAAAQhAAAIQGJhAln0AvXwa5m9g3pyFAAQgAAEIQAACuRPI0gD+RE+zIPcnogAQgAAEWoTAhg0boqVLl0bTpk2Ltz4mQAACEMiCQJZNwE+rQNdKP5DWpgp3TuqYQwhAAAIQGICAzd7kydOjnh4vOb4kWru2Kz5et+7RaOJEN7gQIAABCAyfQJYGcK6KcYf0mqJCqTwIhAABCEAAAkMgcOKJJxbN3326a3tpk45nR45fsWLFEFLiUghAAAL9CWRpABf2T54YCEAAAhAYDoFVq1bptiWSzZ+Dt0ujVau64iN+QAACEKiGQFZ9AMeoEO6cMq6awnAvBCAAAQgUCMyZM0c7NnthVi1vV0SF+MI1/IQABCAwXAIjhntjmfseVNx+0gtlzrVqlDvnqKvOhqiz07sECEAAAtkQKPUB9Lz6S6UVUUfHxog+gNnwJZX2JtDd3R360rpDbXc70siqBtDsLpC+Io31AQECEIAABKoj0NvrLtQvSb+Lt4Xj6tLkbghAAAImkKUB9ETQp0obpUelhxPSLgECEIAABAZLwIM9entdOfGIdGe87e3tjAeBDDYNroMABCBQiUCWg0A+VSkT4iEAAQhAYGgEGAQyNF5cDQEIDI1Algbw0qFlzdUQgAAEIFCJgAd7eO6/wiAQjwAOg0A84xYBAhCAQHUEshwEMmuAoqwe4Fwzn2IQSDO/PcoOgQYmwCCQBn45FK3pCTAIJNs+gA/oN+J+yduw72OLAAEIQKDhCNhkNepSa17twyN+lyyZG02d2hVvGQHccL9CFAgCTUsgyxrAGSkK03TsJeC+K30vda5VDqkBbJU3yXO0HYFSDZv/jD3hcpemWemuyTQrzsuDOtyvz027V155ZZiCou2488AQaAQC1ABGUZZ9AB9KvVQfnyStlFrVAKYemUMIQKBZCNRrqbW00WRN32b5DaGcEGhtAllOA1OO1HpFDtQ3sNw9xEEAAhCoOYHKo2y9BFt2oa/RvFgJ36c1fXdgOpfsEJMSBCAwDAJZGsAjlX9Sb9Oxa/5+P4xycQsEIACBAQlU23+vXkut9TeaXjlzn+j666+P+x/6OeoZquVWz7KSFwQgUDsCWfYB7EkV83kde/r6M6R7U+da5ZA+gK3yJnmOpiKQblYdTv+9Uhq1XWrNg0y6ulyreJ9k83eU5HFyte13qAz6hdIz177fY7/MiYBAAxGgD2C2o4Bdm5iUP2FcI9iq5q+BfpUpCgTai8BQm1XL1XrVa5StB3x4cEkUzZbeKtn82QwOrTm43DMokSGFoXIbUuJcDAEINBUBG7aswlkVEvr7CvFEQwACEBgWgf7Nqp4oeWk8yjadYKj1ci3c2rVL4tq4yZOnR463CbRBc3Ow07RBcnyWIWk0Ozp+rqRd8+fyOlQud+F84edAz+Bzg53KZjDcXnnlleiqq66Kzj777HjrYwIEINB6BLI0gMsr4KlkDCtcTjQEIACBgQkMpf/eQLVeAxmrgUswvLOjR4/WjWF1D6cRVveYM2CClZ7huOOOi2xm0+b2qKOOiqZNm9avj+G2uNnsLViwOFq2bHl0wQXPxlsfYwIHfD2chEDbErCJHCltlNyn0MdB+2r/SalVg5u5e/VPpJcAAQjUj8D69et7Ozom9EbRFOmUeOtjx6fD1KlTi9f0aht0Sq/jlyxZojiff754ztspcXw6neEel8rqfJZJO8R5bKvcyfwqPcPYsWOVVv/yR9GOijeXqTGnwKVUlvLcVBvaO27cLN1X4jFu3F69jidAoJUI+P+2/39L/j/eliGLGsBXRW6ztJ3kfbcXBHkE8PclAgQgAIHMCCSbVbe1SsZAtV6DaRKtttB9a+++o+Qell6Mxo69YtCre1R6hkLZ+jcpy/zpVP8+htvidscdd6i2b5HuLTVRv/LKUZHjCRCAAATSBBYo4gjpBcn7QYdp372eWzlQA9hKXwl5lpYkMFCt11BrAJ2W7wm1h6FmLYArd3733XfvLdTGhdpHbws1kOG+bW0rPcOiRYuUVroGcLrirpRCfoPPixrAbb0JzrcKAWoAC022WRm0PZTQI1kl1iTp2ADq92hD1NnZtrXITfKqKGY7E/DfqGviXOPn2jQP/HBtmOPdh84TM3sQSRSt0IjdjWWXgytd67/1/lO4lDsfRet0rRtIdpPul1yz5n5/s+PavxUrVmh/cKHcM/jOdPnVfKtY1zJOkoaWV+gDePvta1QTeFQ0evQN0fz5M6NbblmpffdfJECgNQgwDUy2BtC/FW+WlklTJE8EfaDkpuFfSq0YMICt+FZ5prYiUM5Y2RymQ9/5/PobufLnX6dkbMK86qbv8RyAP5HWR+vXP57JesDJ8r/+9a+Pbrzx16r780fTwIZWF5QNNoHXXHNN3Ow7b9686Nhjj8X8lSVFZDMTwABmawBP0C/DhdJV0omSP4HeIH1JOlJqxYABbMW3yjNBoAwBj6r1NDKFvnXhglMj90F87LHH4lG3/c9/UBf6Y+Iayd+J/X3419Fuu90bPfHEE9rPPiQNYbK2M/ucSBECzUsAA5jtRNCf0q+Cv3L6E29L8dfCg0D2L+6zgQAEIFAzAjY+g50PbziFqDQQoxAfxU3L/ad4uUFZ/ZnkgRU2f/6Y/KOaVedrW5vg2ks3LduUeluuNrM2OZMqBCDQTASyXApuvR7cnU4c1kmTJaf/bHFfm5YL1AC23CvlgZqRgM1foS+c/yRdS9cVr76xbt2jmRmgUh7l+ws+/PDD0YwZbvL1x6C/C98kzZRc+7evtI/0x4p9DHWSAAEI1IkANYDZ1gCu0XtLf609SHGr6/Q+yQYCEGhTAn2nWilNf7JgwYLMVrRwTZoN5ZIlc+NmX2+DwbQ53Guv/UTf5u+10uXSc9IMyeZvfdzsm76nljWWypQAAQhAoCIB90zOKnxFCf1Q+ifJ6b5P+rT0GYkAAQhAoGYEKs3nd+edl0Z33fVGDWJYHn396/8+7NGsNnjJUcT33HNPn5rFvgbUgz3cILKX5vr7frRw4cKto44DgFJtYqHGcu3arrgGMxjKcB1bCEAAArUi0JFhwt9VWp+RPiLZAH5W+leJiaAFgQABCNSOQKX+eR5/tmXLhdFLL62KPLWJR7cONtikuYZuypQp0aRJu2q5tTv7rSUc0ipvQOdVXEKtr2Es1Vg6ngABCECgHgSyMoAjVdg3SldIcyX3dn6N9L8kAgQgAIGaEvC8fh0d3crDc8+fWtz6+D8kh+3jee0Gu6JFqKHzGrtPPPHnun9nyWl/U7ovnjcwadb6GlAvhHRU8bpl8Tq97p/oNEMobxiXxvMUhmvYQgACEKglgawMYI8K6R7Pr9aysKQNAQhAIEnAc9ZdddVV0Re/+MXowgu/Fi1ePCfunzd37q5q9rVpc2OEwyYd3xB5XrvBhHI1dIV57l2D6CbevmatrwF9q84/IN0nla/d62sYdVk8V+CK4khiHxdCqIX0FDSujUyayHBNNdtap19N2bgXAhBoHgJ3qKhTm6e4mZTUHXh69SHaKqvj8BwQaBoCmzdv7j3kkIW948bN6h058vR462PHWwcddGjviBHjtCTadvHWx453KLdkW/LBvdRb/+XbTlPcWdLz0pR4SbjkPSHNjo6OMvcWlmML1+y66666ZqS0vXSEtHtvR8eEuFwhzdLyb6EsU/tdE64dzrbW6Q+nTNwDgXoR8P9t//+W/H+cUCWBU3T/LyS3fewtzUpIuy0ZMID1+mslHwikCAy0bu1A5magcyGLSmsEF8zalK1GzGml1waudO/kyZP1z8aGdIq0p2Rjd3JxO773oYceCtnH20rpOD6LUOv0sygjaUCgVgQwgKX2kSzc2UXFRK7XVh9qcfA8gN53H0ECBCAAgcwIuD/fK68sUnpuknUo9fP71re+pX56oxX3bskTMf+LjveNR/LqQPv+7uYmWt+7Scez43NhbV436RbmFXS/v8KSamEqF0/i7PMOybkHw0jeBx+8O54SxmmW7t2gKWPG6HgX6fPS56R7pEL+7l/4wQ9+MDr55JO3LsF255136rzzLj1foem5S3HVh8r9ELNJv/oSkgIEIFBLAqGDTBZ57JVFIqQBAQhAYDAE3J/P07ts2bJJlxeMlPv57b33P6pP4NcUZ7PlgSDLpX+XFmuQhb+fOniy6MrGKsz5576Aq1Z1qW/e3H5TubhPXjkj+aEPfSieHzDc+/LLm6Nnn/Xawu+RXJ4/SH2Nq43djTdermlq7o9NrZ9r7NiXdJ3NmKeUWSndKl0Tvf71nl61+uB+iDathf6HBX5R5H6IHsdHgAAEWp2Aa+gIwyfgagTVJG+IOjvpRjB8jNwJgaET8ACQBQsWx9O7vPLKUfEgj/nzZ+pvcUy0cqVXoSzV8EXRATp+TpM4vynOyKN7+56fHU/wHGoA44v0w3/bBSO3Kh6g4Zo/m0OHba0NHF/U5zoPDrEZPUdyDaDLEIyXawsfl46W/kMapefZV2bwGe27AWWS5HPZrXDiZyvUYJZf2USZESDQsgRYCaSwVFvLvuA6PBgGsA6QyQIClQjYBHpuPzcHu0bw2GOPjWbOnBnP11cYgRvuPFU7343Wr7ehCk23AxufkkHyn7lrDPuaL9cADsZIlq67W2kcKz0oeeIETxcTmpef1/5xkmsoXUv4aDRy5JnR9OnXRw895OuSZra8WdVFQw4DGdwhJ8YNEGgiAhjAbJeCa6JXT1EhAIFWIDB69OjohBNOiM4///x46+NKU6wsWrQgrr0Lzbtelm233X4STZiwMRo3rke1iQuiZ54pGESzKTcVTE/PDrpnt3hKli996Uu6ytfvJi2U9o7X+Q39AxUR1yC+/PLL2ntSci+ZPSQ36doA2vC51s9NvQ9LF0rnSe42/RqltTLyP6nyzdWuPaw+mMWPfvSj6Ctf+UpsoLu6ulTraMNJSBII0w2dffbZ8bRDMErSYR8C7UnAVQNMA1OrYVqkC4FhECiN8vVo21Ok0qjdZHJPP/20zm0nlaZZ8fEDDzwQj+wtTOdyhM5vlnqLcnpzJN/je0MePh7fq4EVW0cFL1q0KB4t3Dd9jwIeJe0uOS1PA+Ot81gozSoeF9LXMnI69r6nnnEZyk9B4+fyFDcyn71nnXVWvA1T3lSKD/cUpssZr7Q9Xc74ePqccG+SV7vum0Wl6YbalUkrPLdqv/U7H3/bov9We/q3qp8aA9gKnwQ8Q0sRsAEcMcLGakfJZm3H+NjxybD//vvrXH9zFUWji/E2Zj5/uLRZsvnaS7qyuG/zd4lUMmZRNEbHvsf3Ov9y6dsAjpCi3lGjvB/Ssfnra/RcxsKzBKNZ3sxWMimbNm0a0LxcdNFFyrO/CXY8oUDAptpzTSbfzbhxe8UmG0bNSwADmG0T8J76QCunXau2WSQAAQhAYJAEjjvuOFkyT7lyiuRBF6t13Ll1CpiQzL333qvd9GhgH/te97krrOIRRfdr3wM4XifNlNyPz4M33H/vD5JDOPa9d0heDVOeQSOPC+e02XqN96dIp0SvvuqPx+ekD0pHSE7HoZDeXXfdq7IfH40YsV6DQi6PVzrxNDNunk6uDuJ+kLff/lC85nFy7WM3WZaLD2sin3feecrLA0ySzzsxKsS7HISBphuCDgSamUBHhoVfo7QeLCN3cnlB+pbkXtcECEAAAjUh4EENP/vZfyntCZL7z9kA2rB5Cpi+/eZGjBih+J9KnkbGwVtPt/IGqa8Ri6KbFeeBGtdIoyVfu0KyKXQIx55CZX/J182TPM3KpdLZxe112vpjMGm4dtKxy+Jrk2Vx+kdKX5cJfIv65m2JHnvsMQ1y2TcefLJ27ZKt6wz/8pe/jF5+eaau/YJ0hXStjjuj6667Ltq8eaGOS8/jEdNhTeTnnrP5TJvgpVEhXqcIcd/I0aN/JhKldzOUZQVBCIFGJZClAfRX2N9Ib5fmFLe/0vYj0nukN0ruNU2AAATqTMDGyKNRk7VGWRWhkTrIu2ZMY3wl1+5dKNn0rZGuLQ4O0W4xHHbYYdrzgIwDJH98ebtB8vfY0j/7wsjcHRXnwRyvlzyieLbkaz8jhXttEH8reXpVG7yfSF4efbn0hPRxyYNGbBDHSA42ZvtIu0h7Sy7D6ZLTd9k8v/506S7psOiuux6UGdyi/TukQg2lB6ZcfPEliv+D4p6SzpD+QccHRQ8++LK2V+vYaTn0XRP5jW/0x3JXHO+zhedeERXiCzHt/tMjy+fPn6GBQgdoZPYH462nG3I8AQIQKBC4Wxu3ayTDVB043sGfcg/He63zo1OPwiCQ5u0G0hYlLw2KCH3TsltTtlLfs7wGEZRfw/dktcWO7LfUWqmv4CSdd19Bb6dLC4pb9+PbS1ooPSe5H96+0gRphPQByf0BvT6wt8skt/v6PvcLdJz7jvlep+F9n/N7SPYrnKjjU6XNUkjvCO07raMl5+vrfb/XI/b9B0i+3vk4Ta8r7P6DIc9SX8IRI6b1jh69S3G95L3iPoHh/ZR+NwbuY9gWfygDPKR5lRtgM8AtnGpwAvQBzNaI+evw2FSS43XcnYjzV+RWChjABv8jp3i98ajUcoMRslhTttE6yJdf33aajNGkrev3Jn8nbIB8z5QpU3q3394DRzw69y2SB0bYFNpQBaNlk3aMZENns2gjVjJaBaPmvEK8jaENW39TVrjWJs8G06bS5q5vWuPHuzw2dr4ufd5G1en6Hps3H9sMOs/Ti/s+7pXxO633mGOO6Tc6OHAIDGyezcLHBAi0OgEMYLaDQP5Hzu5rkns/O7ht48uS4x3cpvF0vMcPCECgbgQqr/nq5tHqQtYd5KttTpYh1fx5/s7pjxs31bpJ1ftf1rJtvdFrXvOaeG4+RcQhzIM3deqsaNMmN9c+K7l59SRpo/SX0mhpk+T+gTdJ7ufndH1tyMdbyw0enkfP+7+S3OfvVmmR5I9EB289gOQWyX3w3iA5rddKp0luLHku+sMf7on23HOa9n8nuS9g8v6jdXyeNFsDRLo1QGSk9l3GeVK6v9rPone/+9195krURVuDGXgFFPcv9NbHBAhAoPUJZN0H0L2NXRP4pLRe8qeeO8g4uKfzJ+I9fkAAAnUjUGli5EJ8dcUorMebNhw3xB3n0ymHfoiqaYrP/+3f/m2fSXVt/ry027Jly6MLLng23vp4KJPu2rysW/eo1tFdp+xtnD4vqSIsNksnaE3esfHyZy5LCB4R+z//Y5Pmfnm7S++SbPZsqPaXTpU82GOz5I+xo6Q/SR648Yz0bcmm6WDJ/enul9xf0Nd4e7HUv59dYYk3m84fSDZ63neZX5A0dOXY90SPP+48nIaNpMvj4G2XnvGP8fJ1Tz21JnrDG2bFfdM6On4qQ/istI/6q51Of7WYFz8gAIF6EPDX0LdI/gQ9VPJxKweagFu9naAFnq+W/bxKfQD3KtvHLOArlcHNo+6z5u326ps2Y2uftME2J2+rydJlmjt3bjGPS7RNN59Oic+HfnCeOFmNIdIeUrIZ1s2z7oM3WtpTmiklz7vp1c2zfpYdJD+X83ITsidWdhPuUmmB5Pjw7G6u9fW+5n2S0/e5dNpji3EPaetrK/fTS/ZRu/zyy3svvfTSuNnXTb8+Ds8a3gdbCLQ7AZqAa2fNdq5d0g2VMgaw3T9FhvH8yX/WNj31+Oe8LdM0jMfYestgnqd83zwbmqM1yW5hUl0bMdVaKa7Qd63Qf+30uO9ayKyckezomLC135pX95g40RMw29DZWLkvn41ZKc0waMIrYCxevLh3xx19vasJy13nAR8nSy7rTtLfSR+VzpQWFrc2bjaL7pPn/oE2d77e99nYdUr/Lu0q+f5wna9xGW0Uy+Xt/n/rJZfd2+m9EyZMiPvp+Tn9u5Ne9cOc/D5YuSL8xrCFQHkCGMBsvZTbT74ieaDHluL2q9o6vlUDBrD83xaxFQi06z/n8qNzbXqmxqYvGJltrbhQyUg63qaosGpGqGnzdpxko5WuXXud4lyrFq6ttGqHaxA3Sx6FG6711jWCTjeMxrVxtSm0ObQBDPc5X1/n2rxyJs8G09fOkJJltKH0QJOjJed/iThN7P3oRz/a69U9Dj54gWpPd9Xzzo23Pg5fJAZbk1rhV5RoCLQFAQxgtrbsfCV3l/QOyR1nvHUvc8e3asAAtsVHRXYP2a7/nCsZt2QNYMkcV25OrmQkJ02a1Dt2rE2WzVnSSIVaNm9twLx1raBr/JLXpmvu3Exrk2fz5Rq7WVIyXRs0G7ewnal9m0E3IzsfX79Q8v0+Dku+JdNwWY4oXuPrnaeNpNP0vcukDsnlcFlPiZck23tvLw83Uce+x9fPio+/+c1vxrWDriUspBVqDz0SuG9Nana/0aQEgeYkgAHMdhSw+/0dI10r2Qh6+07pRIkAAQiIQNajZpsFqoyvBiZ44MV0aW5x6+XN/qhJdguT6o4ePTq65ZaV0UUXfT76y798Kl727IwzPACjFCoNaFm//iWtfOExbf1XtSgMrvAEyV5Zw3l7kIZD+tr5intcukTyqNweyQM/7pDSo3A9EOQPkse9nS49Jj0neQJqD/rwd9810vekm6RvSm4cmS35mbxdL/1Rch6fK279ndLfma+RVmqgx+goXi64uHLISy+tilavXqtG4Qk67zwujLe9vdtFf/3Xn4hXBnn+eX8Uu+xmbeZ9J39WBAECEIBAlOUo4B3F86EU04d1PDEVxyEE2pbAUEbNthqkwtJrniXqDZK3HdH/+T/nxKbvhRdeiFcqmTFjRnTGGX+jJczuiP7f/9s1Ou20c+KRwWEksI1k32lebKRscjzi1vvlRttOVbxH766VbAJ3kRx+KnlE7SuSDd0D0inSFMkG6mnJaf5G+ol0qXR2cet7PTLY6R0qjZZeI31Bukpyzxebw49JM6UPSMdJTtP3rJP+WdooOY8bpJekK4v7B2o7WkavV+prVHt6bOzeKiWnhfFH+STpPskG1NsdpP0ZCSwKBAhAoD+BLA2ga/0+nMrigzq+OxXHIQTalkC7LivlJdp6ely7lTQondHVV18d2fxNnjw9rr16/PGlmqdvvKZ+eTbasuWCyDVet9++JvJULQ5hmpclS+ZGU6d2RbNmjVfsX0k2edMk16rZUIVaNhssG7wXJJs9T9uym+Tgaw+QbLBs/pJlm6xjT7+yj+SaQZuz5ZJrEr21gft7yd9vbdZ2ke6XnL7P21BeJ71HWiltLm4XaWsj+l7J35cflXaWLpH8cfw5ycfnSpsjNW2rlvRn2nfZHTbJAPue70lTpaWS03PNZV+j6HMTJqyPLrnk/Nhku4aVAAEIQCAQGBV2Mtj+g9L4qbRM8tfxWZI/Pd8qESAAAREIzZw2NG4Onjfv/HhN0Vb/51x5MuquqK85dK2WzY5N3InSCpnBo2JWJ5xwgo4LJtATFjtcddVV8XyBL73ke8ZINpk2YZdIrsnbTk3Pm6Lx48fKaM7Qcbc0Vlog/U5ys+3z0l9KoUbN6fijy6bqDul9khs4VknJ8tlA2ti51tEm8z4pnH+t9l0z+UPJRtLltRn9K+mTkuNHSs7/acnldlqfkmzqXNvYHb397e+Jfv/7+6M77zwg5tDRsVJbm9GdJBs+5z1bTcVj1QTufXMIZVgRveUtb4l/v0q/b/Pa4vdNEAgQgECdCeyp/M6S/rW49XE9wmeVyWOSP2FvlvaTKoVJOnGF5E9vf42/TJooJcPxOrhX8qfp3dI7pXLBn9qsBdycfYApdR0JVBoE4vhKAzvCII0wTUy54npE7IQJnl7FgyQ8UtcjcD2idj/Jg0JGS2OkN0seEezrvDybB1AcJnkwRSQ53gM0NktOx8cnF7ceNOIBGZ6OJcjnPNjCaYWpYsI5b0+RwmCTEdq3nI/L9F7J6U/Q8nMTNYBjofY9YGNvydcEvSse9PGmNx0Rz+XnkdKl+Q3Tg0mcvqeTKQ128Yjoj3zkI72zZ++rATJhYM2srfMuluNJHATahQCDQPRJ0wLhTD2D21L2lfzV/jzJbSTuZFQu/ESR10v+Su92HtdaXiuFcLB2XpTeIfkr+rGS248OlNIBA9gunxY8Z1UESvP3lQxKmL+vkjn0SFabP89pF6Y4SRfCo6ptbtTvTZov2eR5vr65kqd2CeYsmL9gnDzqdxfJ19pw+XwYlRvMoI2cr/foXF8X7vXW114i+Rpv0/f4vM2n87Ax83mbwoLx0/dVrU08rXePPTxq2ObNWxvG5HWepsZTvYzrveiii+JHr2yWPWfgPpLvsXy8u+49VVunaVO7WXp+67yLaZYcQ6CdCGAAC2sZpU3NUI5PGeTF3x7kdcO5bLVu+or0jeLNNm1rpU9IrulLBtdIrpHmSHdJDt6/Q/I5G0eX1TWCx0khXKMdDws8PUQUt53a6vdoQ9TZ6V0CBJqTgH+H3RTrplqPtPVgi6zWhPUADjdB/upXv4puvvnm6KmnnopUk7U1D+ftPoA9PR604ObPFWq27Y4++tHTokMOOaRik6XvO/DAAzUq1k2146Qxxfv9Hc/NpK9K/lg4UfL3PTfleoCEm2sXSw9IR0k3SG6KDff4Y83XheA/+x9Kbso9SLpfcu8Z3z9acnp7Sz1SofyFeH+PfFLaXTpf+oP0Ouksaazkpt9JUmjKdQPGw8W4TdrOlvaR7otHUD/33GPxO+rqWhXHlZp6fV2H5Hv8Efb/pOWSrwvNwe7r6DKcoCXiPhideeZO8drAiiBAoC0JdHd3h884/7/vbksIVT70g7p/W1pdZR4D3W7X5U9d19olg3tdfzkZUdx/u7auzUsHf/K7E5DDbdI/xHulH2dr1x2G0sH50wTcTl8bW/BZS7VzpdqnUDtX7eOW5vabFc9F56XfvFLHlClT4jnrnLeDt6E52NsQ78md3ezpue289XG43mXsW2PmmraFkmu/OqQ3S64d9Px8oYbPtXXHSG42di1gqOXzdZ54eZRkDsnavmk6dm3iyZL3XVO3u5S8ZqaOPQm0V/pwrd/lkmv8Isnz+M2SCnP2FY5H6Didj2sar5RcJsvNy16mrlDjGLgUJrsu1aQWajl9fKTk+3yP8wrp9E1roCb1GC4/INAGBPQFUn8j/vuMO+BqQ2g2AtNVYBtAf01Ohit1cGEyorj/Pm0fLxP/hOLeU4z31/oPpa75ax3fl4rzIQawDT4oWv0RKzXBOr7a4Cba0uoe7ufW17QNZDRt9vo3i24Xm8D+ZbaZc/+/kokt3Hug4tzvzqYwNAPbmLnJdaG0WbJBsmGaI+0s2eAlDZbTTZtFN7Pa2IUmVl9zkmQj6XR9vdPwP5i00XO8DaDLkTRpJ+vYBtJxNn1OKxjCU+K+kn4fa9eu7R0/3mbXadiY2nCaqw2k7/M9NpzeD2lNVXPwkdtsUq/2fXM/BJqFAAaw0I5Rxtc0TVSotnU7SjK4vcdtIeng613dmw6+f0Mx0teUSy/klb43Wr58eTRmjJuf1LC0eHGsfhcRAYEGJTDQCN1qi9x34ms3j/o7k79LFZome3pmx82aYVRvMr+jjjpKh/5TLF3vZtGDDjooevZZ98g4QXI6Dq7097X3SqHZ002jv5d2kV4rOZ1kWu42/AlprHSttFlyU6rL+A7JcW6WPU5y2g5O2+X6leTm38nS56WPS5dLbsZeIDltNys7LJZCOb11k6+v7ZLcbBvKe33xeJ22fp69pWOLcSvUND9XI4BfiY477r2ydbupWXihtFJN5+t1zT9L/yI53yMV/4y2+2jKmKXxNDJ77LFT9I53HCR2H6zYpK4bCBBoaQIrV66MLAe1TrT0s7bLw7mJ+SOJh3UfwKek9ybiwu6e2tki7R8itJ1bjHNtosO3pavjvdKPa7T7rdLh1j3/p6AJuFm+8lHOsgT616a55qjQRFv2hmKkm3ddwxfW8S03UKNvDWConUvWepVqttJ5FZY0S9eS+dg1X26KTdasueYsfa1r1Fwz5uc5s8J516T5PqflWj3X2IV0XJPmpuIZUrI2zTVzkyXXvrkW0M3Brl30/S6Xm5E9AMQ1fUdIyXIW2BbO+57k8m++1oM1dpb2lWZKrpn0NePiZvG+PAu1eyNGTOsdNcq1gEeolm9874477tR78cUXbx057HvKvZs0b44h0E4EqAHc6mOaeueTKv0aaT9pvHS+9Ii0nVQu/FiR/uq9k7Sz9FPph1II7k/ofoLHSKMkf/331/QDpXTAALbTJ0aLPmupD2Cp2XOgplljsKHw6Fw373qdWW/LjdYtXWfTZCPT3wxVamquPOWJ+/S5OTlpoGyAbL6SRi0YMBsl988LeW/W/iWSzd8iyf31bCDdBzCSkte9Wce+zmnZUPoZJkoLpNDM26F9n3efvVnS66RkGjZ1Pu/mYnPwsU2j87KJdN5XSiE9x3nfcYVyLVy4MP7ts9k2b926VSNHnibTt4tM4B7xqN9K76JFf32b7rH8N7GtL05N91BNWGAMYNrONO/xZ1T0x6XnpZslm0GHPaSN0qE+KAa35bj9xe0mbqP5rmQjlww2fW5LshG8R3qHVC5gAJvwD58i9ydQaRBG/ysLMeVqoioNLgj/8D72sY/JoAQz5Vq2KZoKZcLWAR/pvEp9AG2eCtcXTN8DRfNj8xYMlE3cYZKNVzBarr3zvTaFn5B2kjqlMG+g0/T1NnQ2dz4/UnIN3m6SjZpr9XzefQbdl9Cm8yJps2QT5jT8TEnj6esd72ts4lz76Bq9vaVjJJd1mQbDTIyfv1DG8HyusazMqBz30aP37B092s9UKkOld5FmnD4e6u9B+n6OByZQ+kI08BengVPhbBYEMIDlLA1xQyGAAcziL5E0mo5A+Zqo0+Pm4IEeppLBqBT/wAM2e25OtTE6QrKhs0H6mPRlyed87HM2ba+TbLguKR7bwLm2LZi+hdq36SuZpUKtnA3aLMlG0HnY6NkIenCH413r5q2PPd+ezZ3T8LXOu1QjVxgE4ngbSN9zmuQ8wzO4pnFc72GHHRab36OPPlrHIyQbzPdJu8kYju43UtpcSwYiTOy8lwaHzNL1Nr2lMriW0O9oKMHvID2yeiCDPpS0ubZAoJyBH65Zh2l1BDCAhSbOoRie9LUfSEdUOHYtGwECEGgRAvPmzdPgguVar7c0iGH06Bvipe0GekTPLZge8KEP4uI8gP4+tSRau7YrPl637tFIK1kozoM4PHjDA62+J50h/ZvkHho+50EV7tURxnF5gIhnbvKxu/x6kP8UyWl8QXqN5IEXDt4eKf1AerR47GfyAJJnJDcYrJJ8neNfJ62R5kmef94dyeW9tg7meFr7v5ZelDy71B+lG6WJkrsX3y0dL10X/eIXv9NW9ZWnnhr9/OcPaCm3c3X0B+mfxfYz0Ve/+sUoLH8X5lL0oJozzjjVt0V33XVXzPvVV1+NTjvtHK2b7PIVyjmYdxEnkvhRbkm+gQbpJG5ld5AE+g6K8k3b91vqcJBJcRkEcifgvnZJ+dPQn7j+FHxV8vHDUqsGagCr+xI25LtDc+JAAw+GnCg3DJlAuZqocn0AB5NwpUEoGlGvvm1u4j1Fco2ba+9co+Zj16Kla/Jc6+Zauw7Jrsy1f75mT8k1e64hc5Os00jWAPoap12qQSvU2jkt55WM97Gbg13r6H3f62ljXMv4geK+48J1rnncS3INou/z/mapUHvoZ9xWbWqJdflmw9L5Uq3gcN5FpVVGHE/IhgA1gNlwzCIVagCztWUfVXL+imtT5OCvvB45+zc+aNGAAcziL3GQaZT+0ZX/RzjIZLgsIwJ+H/6HVq0ZLxkPGyMbtLMkN6uOkNzEa0N1iTRLCsbNgyNsstLmzM2sNmQ2gL7P17vfnc2X952Hm2ZtFk8ubm3SfBzS9tZGzc3CIQ3n43gPNHEfP5cnxPlel9VKX+/j5LU2o35G33uKBm6Mik2uR+96ebiQZrJZcDCmIYt3UcmIVxqkk9GvUVslU/oMq86stxW0Gj0sBjBbV+aaQI/CTQa3Rzi+VQMGsEZ/nMZXFSEAADRgSURBVOWSHcw/wnL3EdfYBArGwybKxswmL/SZsymaLtnQhRq3YPhsooKpC0bMps1my2nZAAaDeLn2bdp83jVxMyX3t3Oavn6TlDSFNmk+niHZBDq9kyWbP/cBdL42kqEszqdDSuaZPGdDG479bD62mXS6oYbTRtHPeVK/yZq3VUOY1dst9QF0ufxMAw/SySrfdksnC7Pebsxq8bwYwMKsp1mZM5s/d5hJBtcCVpqOJXkd+xDYJoGB+s9s82YuaFgCMvYqm/vteREe97dzw4H76/njxH3pgtzPz/3cHBZL6yX31TtVOkCaKb1HWio5hOvfpX2f96D/30hOo0dy/EmSP6JukDxZ9KXSTMn5+xqXyz1aviM9KblXiycWcB/DqySXYUW0557ToxEjRmg/5KndOJ8V2rrfoIPzvU76rbSv5EkLVksXS85vYjRr1i+iSy45P7rllpXqB+iJptXbMO5v+TPthWffpHPubzkvPp/VD/fPdL/LJUvmRlOndsVbHzuekB0Bv1f37Tz//PPjbXjP2eVAShAYHIGOwV02qKv+U1f9WPpzyZ9u3l5blDYECFRHoF7/CKsrJXcPloAHfyxdujTad999tZKO73qr5EYDB29t5F6WTpZ2k5KGzx8xWzRYxOf/r3SutFKyQbPpchgp7SN9SLK59PGfJBs4d1H29cFU+T6bMF/zX5JN3yNSGGiyUPuPS/7I3E6ymTxTmiltjGbPnh3tvLOnFbWps5E8VbI59UCUs4rHNoI7SQdJ86XjpEmSQ+F5X3rppX6m4Nhjj43mz58RjRt3QDRy5Afj7fz5M+MVPQr3ZvczDNJ57LHH4sE6mL/s2JISBBqNgL+yZhX8CfZV6f3SWMmfzJdLH5f8qdiKwU3A+j+2IersDF0fW/ExG+OZPBJywYLF0e23r4lHzrkWxP8Ik7UljVFSSrEtAv6bmTx5upYx89/NEsk1ZzZmHjNmU2RjZgN1vuRaOh/vHe200yvR2LFjtSzanKhQc6hG1B2nqYHV6dgw2vw5nZekCZJr8fwx957i8X7a/oPk2rwdpHHS26UbJZtCm753Sr+QNmkptc3S5OjVV20Oj5fuke6X/HHnMtnUjZCBfTLStC7Rz352l45HSq45fE1xu07nR2jpKd/jGj8/36XScsnphrRmx7Vu6VHSuiBeAu6aa66JXAvuL0I2hY1Wc+R36pHEXlowvB8MpN8eoREJdHd3h9ptV3F3N2IZa12mLA1gKKvT3EV6WuoNkS269X8dDGAdX25yOoxG/UdYRxy5ZVXte3DNX1eXm3v7GqBCc++xireRc+2bDaBN1TypS02T10eunUqGZ555Jtp779fqD9Gf4VNkjDpUq7hrdOedt+nYNYWOd1qLJDelenoX1+LZMNr42bAdJX1P8keWjaA/wlwj2aUatxdlMCdqmhabU5vRb0shnKqdW6VnZRS7ZWj9vdf39n2uRYv2jW666Tc6b9PpfN0U7HL5f0/BuHZ0bIybYJvRNJUz9OZBE7JeL6EhCWAAs38t/iR9s3RCMWl/vXZtYKsGG0DWAq5FD13SbFgCpZGMwx+NXRr5GwZHeHtKr2r34gmQt9/eAzT6T8K83377lR11nOxYf9FFFxUnNPYAC6eTHpnrQQ4e/OE8w2AMTytzhFSYpFmLBxXPP6bt2N5CeewOPSjF94R7PbDEg0ycnvPyNSdJPh9UWO84Pdn1Qw891OsBMGbhrc83aygM5OnP2fEECDQiAX1pKf69bp25pFV9Sl2eay/lcrf0grSpmKO/yn+3uN+KGwxgI/5lU6aaEshiNPa2DMOiRYv04dzfUNiMDbT2sB+8lPZTSsMjiT2CN5gxbz3CNTkyd5mObeRmSR6l63zHSaukMJdgYVSsJqNWnJeTe73kkcSTpf0k3xuu8fnnJOdVMJg2ti5XM5u8gX6pKhl6xxMg0IgEMIDZjgL+33J4P5LcxrG56PZu0vbw4j4bCECgzgTcVHvVVVdFZ599drz1cbUhi9HY7r/nJsLSKN7ZOt4YHX/88XFZb7vNzbfuG+j+cQ7euql0slYfuVCrXqyK+4K6X1w63HnnnYryvdcXTyUHe/i7qZuX3XfPwcf+2OqRVklhBPKO2p8veevm3G9K7pO4s+TBGxukXSUHDwjxvRdL7h/oj8DkQJDn1Xz87rjJ2/0e3VzaasF9/sqNgC7Et9rT8jwQaA0C7hiTVThYCb1T2iLpm28c/MnoT1ACBCBQZwI2e4VBMw9pEMEi9Y1bHn396/9e9aCZwmjswS8DV66/oPu5uX9YYdBAV3TAAXOiZ555Xku/nReXtafHgzg8MMQGzeYvGLe52ncoLKH1q1/9StOmXLJ14MFll10WPf/8izr/Q+kWyR8/e0sHSO4D+BPpeeks6eeSzaCP/dGVNpuXKe7Pi/FXafuoZDMYyuM0D5F2K8ZpE5+zUX1a8lJv66QnpMLAllZdWs2GvjCoxya51KcxDNRRJAECEGhhAmv0bBOLz+dPPYddpNXxXmv+6NRj0QewEev3KVO8Sse4cW6aLPVZS64wMVxEpT6ApdUM3vSmI3ovv/zyfv3zStcO3F+wf7Oy+955YuTSpMSFY8cXmlZHj96zd8SI0MfPza9uuvU9odn2AO2fJLmPnlcDsTzB83zJkzn7i6oniB4tlWtu3lfxgZ+bjN087LyDTte+0xxoQurDdD6sbuLtsrjP33DZN/J96T6Ordrc3cjvgLINngBNwNk2AfurtJuBPbzOwQNCzpN+7AMCBCBQXwJZNNWWK7GnH/HUO56w+Mwzd4ouuujzskS90WmnnRNdcMGz0bJly+Oax1Dzd/vtD8VNtlu2/Ku250S//e1t0Sc/+cl4apOQfv+yTtWpv9LEyOPjSYkXL54THXTQfI3IfcvWufC2226j8vV3TtfKufnV2zGSa/28/w/StdI5kptrfy/dLrkm7yhpmuRRu27WDbWEp2vftVjPSf4eO11yTd9vJI/cdU2kg7c3SG+TQlP2Kdr3vR5F7BpG33+HtFx6trj9QfT6179e+9kENyd7RPW0adPibZ7Ny67V9RQ2zCGYzbslFQjUmsCoDDPwJ54/bf2pN1raKN0lHS0RIACBOhMYalPtUIoXVjPwigbuY3jnnY/EJs9NoFu2bFL/vAOiMG+dm58Lxmyxtg/p/HHRv/3bD6Nbb/391ubocmUdN+7n0XnnFVZLcNmCoSzMhXd+9PGPf1z96dL9BPfUlW+QQnOu5wJ0/7zQbGuD9gXJZs0mzibQafy7dI1kw7aPdLfkpmEbSfcXtAF0P0HfX2jiLEwtc66O3evFTb7fkUJwum+S3CcwnX+4prqtzV5yLsW1a7viY6ZeqY4rd0OgXQh0ZPigG5TWQsmdYt4t+VPVn4COJ0AAAnUmUK8VJPrX3hX65xWM2jz1PfyZnvx70kNSYbDEq6/e22cQx2DKGkzn5z73uZjk+PHjte2SkrVyDyfi/P3TZi2YQW99bFPm4OODpOulzdIJ0qekP2pZN39/PU7b9Sr/f0eLFx8WPfTQH7WdE02adI1qIp9TTeRanXtK17kWcRfJpnKq7tle8f5ubfOYNqhLo3vvvVfx1Qf3nyxMpO18CjWgnmfQ8QQIQAAC2yKQpQE8q5iZ21j+r/RzyV+Z/14iQAACdSaQbqpNrzGbVXEKtXc2eSUjFtaqtbHbb78pOneq9Lh0vOTvhCWTqAMZpr7NypXKGga2uJl59erDdOd6ybVyTn+2zNcridHFv1ZcutnWPVVco+fg8q6W+qbh0cjf+tY3orPOmhJ9//uXRJs2Pa8RvF1a73fPePvcc89FL774olYHeTU6/PDDdb9rGd8jvVW6W83SndF223WrLG5GThvUFfEqGTpRdfCKG+UMZiG+6uRJAAIQgMCgCXRXuNJNwq0aOvVgDAIZfL9brmxBAqWBHqVBIYccsrDX8R4I0NExQYMfPMgiDNTw8WO92xqQ4nsXL17cu+OOO/bOmjWr1xM8e6BJ34Etj2kgyLj4mjDPXhiMsNtuuykfDwhJDiTx8e6Sy+JJnT3Z9Ha9nncwTMg82AmanU9hvkAPAvGAEA8YWSgtiyezdnkLg1RK+ZuF78silOY7LA3y8bM6ngABCAxMgEEg2dgy1yJ6wIfbTEZIPg7aV/tPSq0aMIAD/41xtk0I2Ox5JO9ZZ50Vb33sUMmk2LTZJG7atKnffb63ZJ6SxnG73t12myFDeapMVhiJ2xtPDO1808HlGT16hq49WnI6R+veab37779/vOKIJ2e28UsaMu+nDWsl01b+2Tyh9KStJszp+bpgLpN5pcs71ONSWWtjMIdaHq6HQDMRwABmY8vczLtlAH0tm2waMhUMYDP9xVPWuhOotEKEa/Vs/mwCXaMXVvfwdDIHH7xANWdhKpe+tVtefWP06F1lskrxlWoSbQqd7mDMYgBT3tRNiWsiwzVhW+nZNDikj6kM19diW0uDWYvykiYEGoUABjCbaWA88MPD/NwT+siEjtC+O9v8rUSAAARakIBHog40DUmlFSIOPvjg6Mc//rEGgoQpYgqre/zP/6yObrvtXtXvTRKt/gMo3Niwyy7jNAjjgK3TwcyfPzNyX8N0GKhvYvracFypX92NN97UZ9oaX1/p2RYtWhB5SpR02Bar9PWDOWbqlcFQ4hoIQKAcATfZZhX2UEKPZJVYk6TjGkB9rm+IOju9S4BA+xDw731yGhIPePDybslpSErX7CAwHoHrQRjro91264y233774kCOSxRXCCNGnKad38kAeuCIBzl4hKtH63rAhgd5PBdddtlF0ahRo6Iwytjmz4NI0iEMGLn99jUyb0fpmhsim0XPYVjuet9vM9vVVT5fDwjxtDchlHs2DyBJPn//a/05YWPbn1W4li0EIFB7At3d3eGLmr+tVRrDUPuCtEgOZ+o5Dk49y5t0/MlUXCsd0gTcKPX5lKMqAsNpSqzUXOr4ZAhp7767B1+MkUKfNffL88odj0nu0/e8mnf3LDbxOs6DRcK13m7Xe9BBh8aDS5LpD7RfqW9ipXtc1vTAjUI5Tor7N6bvC8+2rT5+g2WVTp9jCECgNgT0BU6fKfGytW1be5NlDeDDgjlHWp9weJ6S/05pz0RcK+36F0e/R9QAttJLbbdnKdVk+dd58LVTXn1i7Vpff3EC2anxyh1eDSIdBqpd6+h4f1xDN2/eDFnBXk0s/bAmlj5cNX5XqVbxlWiPPfaIPvWpT0Uf+MAH+tTe9Z0cel7cFFypdi9dnnLHZnHooYdGd999t06Pld4ifTdegcRT0yRrAMvdXymuEqvdd78uevxxT49DgAAE6kmAGsBs+gCGd+ZOO0nz53hPhGUTSIAABBqUQKUJhQ888MB4lQ+brHKhUh+4Qnz/Oyr1r5s0aXy8pNw3vvGPapIZGz388H3RPvt0Rh/72KR4Hj7Puffggw9Gp556aj/zt2DB4njpufQSdP1z33ZMMMJ33+2PrVOknaRfK89D4qbjcv0Mt51q4YpKrJ54Yp2/QW5NxvsD9anceiE7EIAABBqIgL8ye1r9ZPDxH5IRLbbvKhPmAaxNDT2p1olA5dGs28UjdMOcfuniuPmzMGVKqZm20pQpvrdSM6jn+is37ctAaTk9T/PSd07A53W8Vxzv80MNlco3d+7cITU7l8vXrEpzEp6mfU8Xc7i0e58pYwo8S1PfbItBubyIgwAEtk1AX7b099feTcAdGRoytwN9X3qntF9xe4W2F0kECECgQQlUqp2SQYnX9/UgCq/rmw4egeoBD0uWzI2bfb0tNwAi3CfDllilo7ByhwdNPPPM89Hpp/+Nmn7dF3vwy5r1X4LuVZX3lei0006La9GSNWuhDANtK9VQPv30031qHgdKo9I5s/LAl8I6wztre750g/TnUVi5o1JNLEu7CRMBAhDInECWBvDrKp2XgLtU+n1x+wNtvyIRIACBnAlUal4sZ8wK87pfqRL3XbIt/QhDmYaknGG88MKvqb/d4zJ/7kHi/oQe8evg7dKt5iiOSv3oO82Lm1GnSz3R88+/Kx7J6xHKQzGBlYxwIT6V+TAO58+fr7tscD8leTTxZqm0NFwlAxoMoi4mQAACEGh4Av6K2w6BJuBt17RzRQMQKDXXlm9eDKNZPUFzYRLm0sjcappVt/Xopcmal6g5xmUrTfC8rWXNPMK3MJG0m1O9rNvQ7k+XrcRocE3a6fu3dbyt9Cs1QTueAAEIZEuAJuB2sGi1fUYMYLZ/k6SWEYH09CfuZzcYg5Q0VYXVOfaKTZbjaxFK/fj6T/symP5v4TknTPCUMV7ft7REnI/dv3EoIRjhbU3rMpQ0k9cOlP62DGIyHfYhAIHqCGAAC2v3VmOR7tXNry8m4Emg9QFcNjANTFksREIgewKlCZAf0gTIi9R/7WfRli2Pav99ymzbU7ZkPbXKQE9YKuuardO+jBrVEx155MJ4BLKbjQcTKk0x436JK1asGEwSDXGNm6zd58/Nvm56dvP8YBk0xANQCAg0CQGmganeAL5H7/p7xfd90gDv3f0CWzG4BlCf2cwD2Iovt1mf6aqrroqnRnnpJa9oUVhFY8SInVU3NlnH7oNWiPPKGo1gkLIwnP4bLKxKUlpxpNKqHPV4rxi5elAmDwgMnwAGsHoDOHz6rXEnBrA13mNLPcXZZ58deV68LVsuTDzXMk2qfLVMoH9lC0uy5WmQEgXbulutaar2/q0FqXKnZEbN2gNbWPatSqTcDoHMCWAAo2hUlVQH27TrVUIIEIBAHQgURsculwH0+rmF2r5x434efeMbX4+uvvpqNS92qXlxbkM1L6ZN09q1XXGN3kDTyqRRuqm0EZp7+07nUuDf0zM7btpthPKluXEMAQi0J4Fqp4FZI2wPDkLtSZenhkAOBLxixfz5M7R82QHRyJEfjLfz58+Ml1GzAfEybd42Ut+yvqbJ/RTvi3p6dohNkxHaINZqhYys02Y6lxx+6ckSAhAYMoFqawBnJ3JcqP3Tpc9LNoV7Sf8oXSQRIACBOhHwWri33LIynrzZkyXPm3d+1Wvk1rrolU1TV2z+Cv37Ck2qw6kdrFT+LGoe02l78IbLGEWlGtjCfH9z05dyDAEIQCA3AiMyzNlLwR0trU2kOU3710v7JeJaaZc+gK30NnmW3AgMNIrXherq8oCW7AewDJTvcJtrS6ayMQak5PZSyRgCDUyAPoBRVG0TcPL1ehr+dckI7XtVdccTIAABCFQkUG41Eg9ScXzl2kGbwupCLdJ20/pQlsir7gm4GwIQgMDwCGRpAG9VEb4hTSgWxV9/vTzc74rHbCAAAQiUJTCQaarlEm21SjsMSGnE/pZlXwCREIBA2xHIsgl4luj9WHqt5Jq/HaX7pbdJf5JaMdAE3IpvlWdqKAK1bFKtZdoNBZHCQAACfQjQBJxtE/Bq0T1AOkL6iLRA8nGrmj89GgECEKg1gYFqB6vNu5ZpV1s27ocABCBQSwJZ1gCGcjrN3aXHQ0QLb6kBbOGXy6OVCLimjCXKSjwGswezwVDiGgjkQ4AawOongk6+ue108DXpA9IWyTOgHiPtL/2TRIAABJqQQKmZ1N93lsRTnHhalqFM0tyEj11VkWFWFT5uhgAE6kAgy0EgF6i8M6VF0iuSw23Su+M9fkAAAk1JYFuTNOfxUDZYtZoYOovnaURmWTwXaUAAAq1DIEsD+HZhOVH6L6mniOgRbT0XIAECEGhSArWYKmUwKCqZvFC75rkB165dEs8R6BpJxzdKyItZozw/5YAABBqfQLUrgSSfcLQOupMR2h8vvZiK4xACEGgiAnmsbBFMXk9P/2bnvrVr7mmyScvGNdZau3kwa6JfKYoKAQg0AIEsB4F4CpifSv9LWidNlj4seXWQY6VWDP7vpP9VG6LOTu8SINB6BEpmzFN7LpVWRJ6kuZZ9AAdaocO1a675iyKvGRzCqdHUqV3xOschJs9tHszyfF7yhkCzEWAQSLbTwJypX4BPSW4C9tfyG6QvSGdJBAhAoEkJ5DFVykBNqLWavDnL15MHsyzLT1oQgEDrE8iyBtC0dpI8Cni29IT0Hcn9AFs1UAPYqm+W58qVwEA1gF4ezn3+enrqVyOZKwwyhwAEMidADWAUZWUAx+jteAqYT0gvZf6mGjdBDGDjvhtK1sQEttWE6vPMS9jEL5iiQyBnAhjA7AygX+U6yf3+2ilgANvpbfOsdSWAyasrbjKDQFsRwABmOxH0Sv32LJa8JUAAAhCoioD70a1YsaKqNLgZAhCAAATKE8hyGphnlMXV0o+kB6UwF6B2o3P8gwABCLQfAWry2u+d88QQgEDjE8jSAHrJt99JU4sKT98bdthCAALtRaDUl8+9JVhGrr3ePk8LAQg0MoEsDeDCRn5QygYBCNSfQDNM2lx/KuQIAQhAIH8CWS0Fd7ge5ePSofk/EiWAAAQahcBA8/k1ShkpBwQgAIF2JJCFATxF4G6Wlku3SO+TCBCAAASiZpi0mdcEAQhAoB0JZDEP4CqB+2fpCun90kelP5PaITANTDu8ZZ5x2ARKfQCZtHnYELkRAhDInADTwGSzFNyeejPfK74db2dk/qZIEAIQaEoCLInWlK+NQkMAAm1AIItBIG5GDiN9t2g/izTbAD2PCIH2IMB8fu3xnnlKCECguQhkYdbG6pE/l3js8aljn2IewAQgdiEAAQhAAAIQgECeBLIwgL/SAxyWeIhfp45D7WDiEnYhAAEIQAACEIAABPIikIUBPCKvwpMvBCAAAQhAAAIQgMDQCWQxDczQc+UOCEAAAhCAAAQgAIHcCGAAc0NPxhCAQJqAp41ZunRpNG3atHjrYwIEIAABCGRPIIsm4OxLRYoQgEDbESjNGci6wW338nlgCECg7gSavQbweBG7V9ok3S29U9pW+KwueEzaKN0s7SeF8Ebt/Eh6XFov3SktkwgQaFgCrVJr1nfd4IvF+76op2eHyPEECEAAAhDIlkAz1wAeLBSXSe+WfiwdI3k1krdIt0nlwpmKXCYdLf1JOldaKb1WekHaSbpaOkV6RjpC+k9pnWRjSIBAQxFopVqzyusGdzUUcwoDAQhAoBUINHMN4If0Aq6TrpU8AfU1kv9TfFiqFHzuAuke6WXp09JoKdQcrtD+dyWbP4ebpRulhRIBAg1HoJVqzVg3uOF+vSgQBCDQwgSa2QDO03v5berd3Krj+am4cOiORTMlXxOCjeMd0kD3uKaxUo1iSIctBHIhULnWzEt0N1e48soro46ObhV6tnRqvO3o2Bg5ngABCEAAAtkSaEQD+B09Yo9kc+ZtWq6Rc7Chcz+9ZHhOB44vF0L8YO9xzeBVkmsLryiXIHEQyJtAK9WasW5w3r9N5A8BCLQTgUbsA3iGXsDfDfASXimec1XBpNR1O+rY8eVCiC93z6OpG7yc3Q8l83m7ZBNKgEDDEXDt2OTJ0zVYwrVmS6UVqkVr3loz1g1uuF8xCgQBCLQogUY0gB6MYW0r3KEL/ix1kY9vT8WFQxvANZKv+Y3kMFJy86/7/YVgg/gTyf0A3yYFw6nd8mH58uXRmDFj4pOLFy+OLAIE6kEg1Jq5L+CqVV3RnDlz4yZTxxMgAAEIQKBEYOXKlZHlsHnz5tKJNt0b0cTP7b55N0keBWzDdoxkI3eYdJtULnxSkR+R/kJaLZ0jvU/aR7Lp3E36qXS35Hg3Qw8U3KysgZgbos7O0MI80OWcgwAEIAABCEAgbwLd3d1R8Yuyvy2HFsK8i1XX/BuxBnCwAFyL937pi9L3pTXSe6Wk+btLx5dLvsbhy9IE6QZpB+l30hIp1Dh+SPv7SXtJ66VeyeEXkk0jAQIQgAAEIAABCDQ9gWauAWwE+NQANsJboAwQgAAEIACBIRCgBjCKGnEU8BBeIZdCAAIQgAAEIAABCAyVAAZwqMS4HgIQgAAEIAABCDQ5AQxgk79Aig8BCEAAAhCAAASGSgADOFRiXA8BCEAAAhCAAASanAAGsMlfIMWHAAQgAAEIQAACQyWAARwqMa6HAAQgAAEIQAACTU4AA9jkL5DiQwACEIAABCAAgaESwAAOlRjXQwACEIAABCAAgSYngAFs8hdI8SEAAQhAAAIQgMBQCWAAh0qM6yEAAQhAAAIQgECTE8AANvkLpPgQgAAEIAABCEBgqAQwgEMlxvUQgAAEIAABCECgyQlgAJv8BVJ8CEAAAhCAAAQgMFQCGMChEuN6CEAAAhCAAAQg0OQEMIBN/gIpPgQgkD+BDRs2REuXLo2mTZsWb31MgAAEINDIBEY1cuEoGwQgAIFGJ2CzN3ny9Kinp1NFXRKtXdsVH69b92g0ceLERi8+5YMABNqUADWAbfrieWwIQCAbAieeeGLR/N2nBC+W7tPxDpHjCRCAAAQalQAGsFHfDOWCAASagsCqVatUziXS9sXyers0KsQXo9hAAAIQaDACGMAGeyEUBwIQaC4Cc+bMUYG7pE3Fgnu7IirEF6PYQAACEGgwAiMarDzNVhx3+lEXoA1RZ6d3CRCAQLsRKPUB3EGPvlRaEXV0bIzoA9huvwk8bzMR6O7uDn103VG3u5nKnlVZqQHMiiTpQAACbUnAAz1s9pYsmRtNndoVbzF/bfmrwENDoKkIUANY3euiBrA6ftwNAQhAAAIQqDsBagCjiBrAuv/akSEEIAABCEAAAhDIlwAGMF/+5A4BCEAAAhCAAATqTgADWHfkZAgBCEAAAhCAAATyJYABzJc/uUMAAhCAAAQgAIG6E8AA1h05GUIAAhCAAAQgAIF8CWAA8+VP7hCAAAQgAAEIQKDuBDCAdUdOhhCAAAQgAAEIQCBfAhjAfPmTOwQgAAEIQAACEKg7AQxg3ZGTIQQgAAEIQAACEMiXAAYwX/7kDgEIQAACEIAABOpOAANYd+RkCAEIQAACEIAABPIlgAHMlz+5QwACEIAABCAAgboTwADWHTkZQgACEIAABCAAgXwJYADz5U/uEIAABCAAAQhAoO4EMIB1R06GEIAABCAAAQhAIF8CGMB8+ZM7BCAAAQhAAAIQqDsBDGDdkZMhBCAAAQhAAAIQyJcABjBf/uQOAQhAAAIQgAAE6k4AA1h35GQIAQhAAAIQgAAE8iWAAcyXP7lDAAIQgAAEIACBuhPAANYdORlCAAIQgAAEIACBfAlgAPPlT+4QgAAEIAABCECg7gQwgHVHToYQgAAEIAABCEAgXwIYwHz5kzsEIAABCEAAAhCoOwEMYN2RkyEEIAABCEAAAhDIlwAGMF/+5A4BCEAAAhCAAATqTgADWHfkZAgBCEAAAhCAAATyJYABzJc/uUMAAhCAAAQgAIG6E8AA1h05GUIAAhCAAAQgAIF8CWAA8+VP7hCAAAQgAAEIQKDuBDCAdUdOhhCAAAQgAAEIQCBfAhjAfPmTOwQgAAEIQAACEKg7AQxg3ZGTIQQgAAEIQAACEMiXAAYwX/7kDgEIQAACEIAABOpOAANYd+RkCAEIQAACEIAABPIlgAHMlz+5QwACEIAABCAAgboTwADWHTkZQgACEIAABCAAgXwJYADz5U/uEIBARgQ2bNgQLV26NJo2bVq89TEBAhCAAATKExhVPppYCEAAAs1DwGZv8uTpUU9Ppwq9JFq7tis+Xrfu0WjixInN8yCUFAIQgECdCFADWCfQZAMBCNSOwIknnlg0f/cpk4ul+3S8Q+R4AgQgAAEI9CeAAezPhBgIQKDJCKxatUolXiJtXyy5t0ujQnwxig0EIAABCGwlgAHcioIdCECgWQnMmTNHRe+SNhUfwdsVUSG+GMUGAhCAAAS2EhixdY+d4RBwhyN1P9oQdXZ6lwABCORBoNQHcAdlv1RaEXV0bIzoA5jH2yBPCDQ+ge7u7tA/2J2Euxu/xNmXkBrA7JmSIgQgUGcCHuhhs7dkydxo6tSueIv5q/NLIDsIQKCpCFADWN3rogawOn7cDQEIQAACEKg7AWoAo6jZawCP12/NvZI7/NwtvVPaVvisLnhM2ijdLO0nlQsHKXKz9PNyJ4mDAAQgAAEIQAACzUqgmQ3gwYJ+mXS25Jq4T0tXSAdKlcKZOrFMOlraWfpvaaW0nZQMY3XwHenmZCT7EIAABCAAAQhAoBUINLMB/JBewHXStdIW6RrJwwA/LFUKPneBdI/0smTTOFpK1xz+k+JukP5LIkAAAhCAAAQgAIGWItDMBnCe3sRvU2/jVh3PT8WFQ9cSzpR8TQg2jndIyXsO1/FfSMslAgQgAAEIQAACEGg5Ao1oAN302iPZnHmb1o2Kc7ChWx/vlX48V4wvxZT2fL3DQPdM0PmLpdOklyQCBCAAAQhAAAIQaDkCjbgW8Bmi/HcDkH6leM7z9kxKXbejjivN5xPiy93zaDGdL2v7E4mm3yIQNhCAAAQgAAEItB6BRjSALwizta1why74s9RFPr49FRcObQDXSL7mN5LDSMnNv5f6QGGx5Ekh3+sDBQ8OcR/Bp6Q3SaulfmH58uXRmDFj4vjFixdHFgECEIAABCAAgcYhsHLlyshy2LzZk3y0d2jmeQA9Cvgm6d2Sa+2Okb4rHSbdJpULn1TkRyT38bOZO0d6n7SPZNO5q5Q0xa6JPFR6p/Sk1CMlg5uVWQkkSYR9CEAAAhCAQIMTYB7AvmanwV9Xv+K5Fu/90hel70trJNfcJc3fXTq+XPI1Dm7idT8/j/D1mlG/k7yCfKhxdE1fMrjW0F8THk9Gsg8BCEAAAhCAAASamUAz1wA2AndqABvhLVAGCEAAAhCAwBAIUAPY/CuBDOF1cykEIAABCEAAAhCAgAk04jQwvBkIQAACEIAABCAAgRoSwADWEC5JQwACEIAABCAAgUYkgAFsxLdCmSAAAQhAAAIQgEANCWAAawiXpCEAAQhAAAIQgEAjEsAANuJboUwQgAAEIAABCECghgQwgDWES9IQgAAEIAABCECgEQlgABvxrVAmCEAAAhCAAAQgUEMCGMAawiVpCEAAAhCAAAQg0IgEMICN+FYoEwQgAAEIQAACEKghAQxgDeGSNAQgAAEIQAACEGhEAhjARnwrlAkCEIAABCAAAQjUkAAGsIZwSRoCEIAABCAAAQg0IgEMYCO+FcoEAQhAAAIQgAAEakgAA1hDuCQNAQhAAAIQgAAEGpEABrAR3wplggAEIAABCEAAAjUkgAGsIVyShgAEIAABCEAAAo1IAAPYiG+FMkEAAhCAAAQgAIEaEsAA1hAuSUMAAhCAAAQgAIFGJIABbMS3QpkgAAEIQAACEIBADQlgAGsIl6QhAAEIQAACEIBAIxLAADbiW6FMEIAABCAAAQhAoIYEMIA1hEvSEIAABCAAAQhAoBEJYAAb8a1QJghAAAIQgAAEIFBDAhjAGsIlaQhAAAIQgAAEINCIBDCAjfhWKBMEIAABCEAAAhCoIQEMYA3hkjQEIAABCEAAAhBoRAIYwEZ8K5QJAhCAAAQgAAEI1JAABrCGcEkaAhCAAAQgAAEINCIBDGAjvhXKBAEIQAACEIAABGpIAANYQ7gkPTQCK1euHNoNXF2WABzLYhlWJCyHha3sTbAsi2XIkXAcMjJuqEAAA1gBDNH1J8AHWzbM4ZgNR6cCS1hmRyCblPidzIYjqUQRBpDfAghAAAIQgAAEINBmBEa12fPW5HG7u7trkm67Jbp58+YIltW/dThWzzCkAMtAovotLKtn6BTgmA1H/tdE0YhsULZtKtP05I+27dPz4BCAAAQgAIHmJjBdxX+suR9heKXHAA6PW7jL/KZKG0MEWwhAAAIQgAAEmoLADirlWqm3KUpLISEAAQhAAAIQgAAEIAABCEAAAhCAAAQgAAEIQAACEIAABCAAAQhAAAIQGC6B43XjvdIm6W7pndK2wmd1gTuVum/gzdJ+UjKM0cF50hrpeelB6X1Sq4dasAzMDtLOZunnIaKFt1lzfKNY/Uh6XFov3Sktk1oxbOtvM/nMk3RwhWQm66TLpIlSMgznXSTvb+b9LFm+XyB+KT0rPS3dKL1ZaoeQJcckr4/poEf6XDKyxfezZumBnpdLz0ie7uP30v4SoQ0IHKxnfFF6hzRSOlZ6QTpQqhTO1ImHpH2lsZKNnkcKbyeF4H+2XvZir2LEztrOLu636qZWLM3LnFdJ10utbgBrwXGpuH1A8u+hwxHSBuntUiuFwfxtJp/3Jzrw79SO0mTpp9K1UgjDeRfh3mbfZs3ywwJytLS95M9am5duaarUyiFrjoHVPtr5k3SH1C4GMGuW/rt35cyXpEmSw2uk8DkZR/CjdQl8W4/2g9TjXaPjb6XikoerdfCRRIQ/zJ6U3luMW6TtJqndfolqwbKINPqydr4inSu1ugGsJcfA09sfSl9NRrTA/rb+NpOPuKcOeqTkt/05xThPG+EwnHdRuLP5f2bNshyR5xR5TLkTLRRXC44d4vNryV/gbpLaxQBmzfLzYvdbqWWDf1EIlQnM06n0L8Ctiptf4ZZOxc+UfE0IW7Tjb2HhnqO0728VZ0lr///2zgVGrrKOo20Bi4hQrBYBS7UiUYhQ0SqBxNWqqDQBFaNJ0RYaxShqUAHrI+3GoDUhWBIjEcVU8VGIBoimirUhTQWjUYE+KGqV1rYGrAJFwPAQ6vlt77Ufk9ndTp3JZu6ef3Lme9znd/bemf9+czcLmS3MB8lUaHL0wmV8vR7mwmfTGAfRK4+lulzHmd26vezs8/q+3JvlEOP5MdhYdGaW+QnIskSnP4s9W/X/ay9ctlrJ9ZfZwHWtCxrU7pXHvBduhh83yNVoQ+mFy3xWJ6m8AfJowt3weWhM3tSYgfBD6SSWs/LTkOQsZSu30JfIRbVrqLb3Jb+Vpr9d1P0jbZOZvxPgIJgJr4HMKHwX+jHG0uWhCPsWfADyYd3PMZYeS2+5Lq+HTfD9ckGf1/fl3iyHmPUfKjuqeu7tel8pR7rX22zeiK56/Ps69n1xWYqZTuM6WApboanRC4+zkJX3w481Vdow4+qFy3xWvxt+CNPgvXABfAoaEQc2YhSdD+JCNhnph/hktcs8gzKlZfdH0E5/u6j7222zo9og6yTh/DQkaQmL4VY4uGpT9E2Mpct89bsSbusbW8Of6Fh6rM/q2VRuhLwvnAW5TpsS+3JvlmPN+oeXHVU993adGGaddvd6faw2mzeiqx5fu7HX73PlQEdyWe+rXv84KqsgCeCSurOhZT32bnjMNZn79jtwEeyC8RTddhl32edvYUUaxHq4Ct4Fl0Pfx3idAcwfcjwwAg9XP9k7KWdX9bpI+4660VLmgtkK5TZ5BvBVcDskUu4equ19mVj1pey3GEuXb0XWfPhHxaWUp8JOyOxqP8VYeCyv43wIrYbH4e2Q82lSjHRvlh7qMefenwzlM4An084M6TpIdPr+sGer/n/tpss4rOMkKmvhGvhM3dngspsec00eA7levwH1e+Lp1DPZsQGaHN12GVftPqub7NCxtRjIcyj5IDwb8tvVOfAonALDxcUs2AonQmZUlsJ2OAQSKfPc31cgHzBT4Wa4CZocvXA5DWFHF1xBPQ8/HwVN/eWmFx6PxNd6WAH5haWpMdq92Trun9CRezP3aL4O+gXcCHXsz8+i3rbfy267PA0hec7q4/0upsPz76bHvOeV74ep/wqWQe7xpkc3XcZVPufzDd17IG7zmb4VLgJjnBhI0nc3JBHcBO+AMjbSWFR2UB+Ee+ERWAO5cMo4nsYqeBh2wNUwBZoevXBZOstXRplBaHp022MeQcjzsLkeQ36bDiuhaTHIgNrdm3nuLGPPjEkduSe/B7vgQbgWDoMyRvtZlOs2rT7IgLrl8hb29R/IdVdeh63vrSxuXAwyom55bJUTr19o7Wxwe5CxddPlXPa3HnJNboZLwNCABjSgAQ1oQAMa0IAGNKABDWhAAxrQgAY0oAENaEADGtCABjSgAQ1oQAMa0IAGNKABDWhAAxrQgAY0oAENaEADGtCABjSgAQ1oQAMa0IAGNKABDWhAAxrQgAY0oAENaEADGtCABjSgAQ1oQAMa0IAGNKABDWhAAxrQgAY0oAENjD8DMxjy0zBzmKGPtnyYzezWgAY00AwDk5oxDEehAQ2MsYHzOX4Sri91eB4D1Xa9eC/aPcq5jLZ8lM17tngJe/5lz/bujjWgAQ1goBdvuorVgAbGn4EPM+R/wkI4qIPhT2TdJGIpmx7P6mCA3UhOOzleB6fmqhrQgAY0oAENaGDChNlIeArOgMdgHpRxAI1Pwl3wL9gG+afq0+HfkG3zz9azbBEkMps4Z6i252VG1Tez6juRcjXshAfh1/BGqCPrZ7/1+nV/XbZbfh4LN8AuyD+Anw9lnEkjy3OeOfYgbIHhYgELtsNHIOs9BInJkJnSP8P9sAZmQSLuHocnoXZyOvUBiJNJUEe9/7q9nMr1cBXEy0pIZLuPwq2Qfa6D7NPQgAY0oAENaEAD+20gicfvq61XUCbRKOMyGn+CV1edUyhfV9WT2CRRa50BbJcAlgldEsA3QWa5MuO4GJK4PR8SM6Bcf6izeMnyHKNOEM+hngTtDZBzyb6TLJ0FiZdCErP5kCQs5/93uAeGiwUsSCL3dTgEDobEt2EVHAXZVxLE7OswSCyBtUO1vS8DVDOerF9H9r+tblAuh5xj+g+A+ngZ5x3wEsj2y2ALGBrQgAY0oAENaGC/DCSZexQuqLbOLFwSlVdW7RSZMXtn0S6rAzRaE5ssT9IyJ5UqZlCOlNBltcwEzk2FGG39LM8xZmZl4ma4Yqi29+VKqj+tmp+jzCxjGZfTGC0BfIJ1MuNXx/Oo5LgvqzuqMgnyvKq+hHJtVa+LASqtnhbQt61egXI53Fa062qOd27doDwBsq8XFH1WNaCBcWZg0jgbr8PVgAa6a2Ahu0uC8YNqt2so/wKZ1UpkRu5QSILTzZjOzjLb+FfIzF+Sv+fCNNifyP5y3mXkK9pjq45jKHOsMraWjWHqO+nPrFwdx1WV31A+UJFzPxpeBP9vbBlmB/cW/UnYE/FlaEAD49TAgeN03A5bAxrojoEPsZt8DZsEb2K1y3yVmRmnSyB/GPIIHA93QWskeWwX2eY5xYIkYGV8k0YSv3ytnGMkkkjV5zDUMcrL7mL5dur5mreMJGv1DNvfqJ9SLqT+4pZ2u2br+O5jpRz3JNjRbgP6WrfJavk6OhEndb3VSZa32zb9hgY0oIFnGHAG8Bk6bGhAAx0YOIN1kyS9BWbByQVJxBZA4quwFJKsJY6AU4dqEyYkIUq8fE/xv9ffUTsPJsORsBjKOJxGksQ8t5ek6MuQmcYyRksGy+XXsGFmMwcg74tz4Hy4GhLXQcb4Psjzda+F90OnsY0NboKvwbHVxpmJextknIn7IMsy9jqSYCfxS8Kd8865fBD2N8qx7+8+3E4DGtCABjSggXFo4AbGnGfn2sUyOjdWC5IwXQx/gCQxSYLSruNKKvkjiHwlemnV+QrKPM+W5wfvhHnwFMyExGxIkpgkcAtcCPfAQkjMgHL9oc7ipd3ybJtZyiSVG2ABlHEmjSzPOa2GL8ImGC6yfcbaGknsktD+EXKszAT+CF4Iicyg/hzuhzg5DRJnw2bI8VfCIij3v5z2tdAa8TCn6Gw39mKxVQ1oQAMa0IAGNKCB4Qwkyf3ZcAvt14AGNKABDWhAAxrofwNzGcJUmARvhszenQuGBjSgAQ1oQAMa0EBDDVzGuPJXvfkaO1/ffgIMDWhAAxrQgAY0oAENaEADGtCABjSgAQ1oQAMa0IAGNKABDWhAAxrQgAY0oAENaEADGtCABjSgAQ1oQAMa0IAGNKABDWhAAxrQgAY0oAENaEADGtCABjSgAQ1oQAMa0IAGNKABDWhAAxrQgAY0oAENaEADGtCABjSgAQ1oQAMa0IAGNKABDWhAAxrQgAY0oAENaEADGtCABjSgAQ1oQAMa0IAGNKABDWiggQb+C4xJO/r/V5dAAAAAAElFTkSuQmCC\">"
      ],
      "text/plain": [
       "<IPython.core.display.HTML object>"
      ]
     },
     "metadata": {},
     "output_type": "display_data"
    },
    {
     "data": {
      "text/plain": [
       "<matplotlib.text.Text at 0x1249a32b0>"
      ]
     },
     "execution_count": 173,
     "metadata": {},
     "output_type": "execute_result"
    }
   ],
   "source": [
    "plt.scatter(y, lm.predict(X))\n",
    "plt.xlabel('Actual log return')\n",
    "plt.ylabel('Predicted log return')\n",
    "plt.title('Graph title here')"
   ]
  },
  {
   "cell_type": "code",
   "execution_count": 185,
   "metadata": {
    "collapsed": false
   },
   "outputs": [
    {
     "name": "stdout",
     "output_type": "stream",
     "text": [
      "[ 0.00013522]\n",
      "[[ 0.43279461]]\n",
      "0.131251614376\n"
     ]
    }
   ],
   "source": [
    "lm = LinearRegression()\n",
    "y = log_returns['EOD-PG'].dropna().to_frame()\n",
    "X = log_returns['EOD-KO'].dropna().to_frame()\n",
    "lm.fit(X,y)\n",
    "print(lm.intercept_)\n",
    "print(lm.coef_)\n",
    "print(lm.score(X,y))"
   ]
  },
  {
   "cell_type": "code",
   "execution_count": 192,
   "metadata": {
    "collapsed": false
   },
   "outputs": [
    {
     "name": "stdout",
     "output_type": "stream",
     "text": [
      "Populating the interactive namespace from numpy and matplotlib\n"
     ]
    },
    {
     "data": {
      "text/plain": [
       "<matplotlib.text.Text at 0x12534b390>"
      ]
     },
     "execution_count": 192,
     "metadata": {},
     "output_type": "execute_result"
    },
    {
     "data": {
      "image/png": "[encoded data removed]",
      "text/plain": [
       "<matplotlib.figure.Figure at 0x1252ee048>"
      ]
     },
     "metadata": {},
     "output_type": "display_data"
    }
   ],
   "source": [
    "%pylab inline\n",
    "plt.scatter(X, y)\n",
    "plt.plot(X, lm.predict(X), color='blue', linewidth=3)\n",
    "plt.xlabel('KO')\n",
    "plt.ylabel('PG')\n",
    "plt.title('Graph title here')"
   ]
  },
  {
   "cell_type": "code",
   "execution_count": 198,
   "metadata": {
    "collapsed": false
   },
   "outputs": [
    {
     "name": "stdout",
     "output_type": "stream",
     "text": [
      "Coefficients: \n",
      " [[ 0.43279461]]\n",
      "Mean squared error: 0.0000411338\n",
      "Variance score: 0.13\n"
     ]
    }
   ],
   "source": [
    "from sklearn.metrics import mean_squared_error, r2_score\n",
    "\n",
    "# The coefficients\n",
    "print('Coefficients: \\n', lm.coef_)\n",
    "# The mean squared error\n",
    "print(\"Mean squared error: %.10f\"\n",
    "      % mean_squared_error(y, lm.predict(X)))\n",
    "# Explained variance score: 1 is perfect prediction\n",
    "print('Variance score: %.2f' % r2_score(y, lm.predict(X)))"
   ]
  },
  {
   "cell_type": "code",
   "execution_count": 200,
   "metadata": {
    "collapsed": false
   },
   "outputs": [
    {
     "data": {
      "text/plain": [
       "<matplotlib.collections.LineCollection at 0x1253fd438>"
      ]
     },
     "execution_count": 200,
     "metadata": {},
     "output_type": "execute_result"
    },
    {
     "data": {
      "image/png": "[encoded data removed]",
      "text/plain": [
       "<matplotlib.figure.Figure at 0x124e93208>"
      ]
     },
     "metadata": {},
     "output_type": "display_data"
    }
   ],
   "source": [
    "#residual plot\n",
    "plt.scatter(lm.predict(X), lm.predict(X)-y)\n",
    "plt.hlines(y=0, xmin=-0.01, xmax=0.01)\n"
   ]
  },
  {
   "cell_type": "code",
   "execution_count": 205,
   "metadata": {
    "collapsed": false
   },
   "outputs": [
    {
     "data": {
      "text/plain": [
       "array([[<matplotlib.axes._subplots.AxesSubplot object at 0x125863320>]], dtype=object)"
      ]
     },
     "execution_count": 205,
     "metadata": {},
     "output_type": "execute_result"
    },
    {
     "data": {
      "image/png": "[encoded data removed]",
      "text/plain": [
       "<matplotlib.figure.Figure at 0x125971ba8>"
      ]
     },
     "metadata": {},
     "output_type": "display_data"
    }
   ],
   "source": [
    "# histogram of residuals\n",
    "(lm.predict(X)-y).hist(bins = 20)"
   ]
  },
  {
   "cell_type": "code",
   "execution_count": 206,
   "metadata": {
    "collapsed": true
   },
   "outputs": [],
   "source": [
    "#R2 is explained variation / total variation\n",
    "# heteroscedasticity == non-constant variance of residuals"
   ]
  },
  {
   "cell_type": "code",
   "execution_count": 210,
   "metadata": {
    "collapsed": false
   },
   "outputs": [
    {
     "name": "stdout",
     "output_type": "stream",
     "text": [
      "                            OLS Regression Results                            \n",
      "==============================================================================\n",
      "Dep. Variable:                 EOD-PG   R-squared:                       0.131\n",
      "Model:                            OLS   Adj. R-squared:                  0.128\n",
      "Method:                 Least Squares   F-statistic:                     38.37\n",
      "Date:                Thu, 11 Jan 2018   Prob (F-statistic):           2.34e-09\n",
      "Time:                        13:59:42   Log-Likelihood:                 929.38\n",
      "No. Observations:                 256   AIC:                            -1855.\n",
      "Df Residuals:                     254   BIC:                            -1848.\n",
      "Df Model:                           1                                         \n",
      "Covariance Type:            nonrobust                                         \n",
      "==============================================================================\n",
      "                 coef    std err          t      P>|t|      [95.0% Conf. Int.]\n",
      "------------------------------------------------------------------------------\n",
      "const          0.0001      0.000      0.335      0.738        -0.001     0.001\n",
      "EOD-KO         0.4328      0.070      6.195      0.000         0.295     0.570\n",
      "==============================================================================\n",
      "Omnibus:                       56.451   Durbin-Watson:                   2.040\n",
      "Prob(Omnibus):                  0.000   Jarque-Bera (JB):              936.885\n",
      "Skew:                           0.179   Prob(JB):                    3.61e-204\n",
      "Kurtosis:                      12.365   Cond. No.                         174.\n",
      "==============================================================================\n",
      "\n",
      "Warnings:\n",
      "[1] Standard Errors assume that the covariance matrix of the errors is correctly specified.\n"
     ]
    }
   ],
   "source": [
    "# p values test null hypothesis. Null hypothesis in that coef=0. \n",
    "# A low p-value (< 0.05) indicates that you can reject the null hypothesis - consider removing terms with high P values\n",
    "\n",
    "#The Durbin-Watson test checks for autocorrelation by looking at he residuals separated by some lag - ranges from 0 to 4\n",
    "#close to 2 means no autocorrelation\n",
    "\n",
    "#positive kurtosis - peaked\n",
    "#negative kurtosis - long tails\n",
    "\n",
    "#using statsmodels\n",
    "import statsmodels.api as sm\n",
    "from scipy import stats\n",
    "X2 = sm.add_constant(X)\n",
    "est = sm.OLS(y, X2)\n",
    "est2 = est.fit()\n",
    "print(est2.summary())"
   ]
  },
  {
   "cell_type": "code",
   "execution_count": 280,
   "metadata": {
    "collapsed": false
   },
   "outputs": [
    {
     "data": {
      "text/plain": [
       "Lasso(alpha=0.0001, copy_X=True, fit_intercept=True, max_iter=100000.0,\n",
       "   normalize=True, positive=False, precompute=False, random_state=None,\n",
       "   selection='cyclic', tol=0.0001, warm_start=False)"
      ]
     },
     "execution_count": 280,
     "metadata": {},
     "output_type": "execute_result"
    }
   ],
   "source": [
    "# Lasso regression\n",
    "\n",
    "from sklearn.linear_model import Lasso\n",
    "\n",
    "y = log_returns['EOD-PG'].dropna()\n",
    "X = log_returns.drop('EOD-PG', axis=1).dropna()\n",
    "\n",
    "alpha =0.0001\n",
    "\n",
    "lassoreg = Lasso(alpha=alpha,normalize=True, max_iter=1e5)\n",
    "lassoreg.fit(X,y)"
   ]
  },
  {
   "cell_type": "code",
   "execution_count": 281,
   "metadata": {
    "collapsed": false
   },
   "outputs": [
    {
     "data": {
      "text/html": [
       "<div>\n",
       "<table border=\"1\" class=\"dataframe\">\n",
       "  <thead>\n",
       "    <tr style=\"text-align: right;\">\n",
       "      <th></th>\n",
       "      <th>stock</th>\n",
       "      <th>coef</th>\n",
       "    </tr>\n",
       "  </thead>\n",
       "  <tbody>\n",
       "    <tr>\n",
       "      <th>0</th>\n",
       "      <td>EOD-VZ</td>\n",
       "      <td>0</td>\n",
       "    </tr>\n",
       "    <tr>\n",
       "      <th>1</th>\n",
       "      <td>EOD-UTX</td>\n",
       "      <td>-0</td>\n",
       "    </tr>\n",
       "    <tr>\n",
       "      <th>2</th>\n",
       "      <td>EOD-MRK</td>\n",
       "      <td>0</td>\n",
       "    </tr>\n",
       "    <tr>\n",
       "      <th>3</th>\n",
       "      <td>EOD-UNH</td>\n",
       "      <td>-0</td>\n",
       "    </tr>\n",
       "    <tr>\n",
       "      <th>4</th>\n",
       "      <td>EOD-TRV</td>\n",
       "      <td>0</td>\n",
       "    </tr>\n",
       "    <tr>\n",
       "      <th>5</th>\n",
       "      <td>EOD-KO</td>\n",
       "      <td>0.155017</td>\n",
       "    </tr>\n",
       "    <tr>\n",
       "      <th>6</th>\n",
       "      <td>EOD-WMT</td>\n",
       "      <td>0</td>\n",
       "    </tr>\n",
       "    <tr>\n",
       "      <th>7</th>\n",
       "      <td>EOD-GS</td>\n",
       "      <td>-0</td>\n",
       "    </tr>\n",
       "    <tr>\n",
       "      <th>8</th>\n",
       "      <td>EOD-V</td>\n",
       "      <td>0</td>\n",
       "    </tr>\n",
       "  </tbody>\n",
       "</table>\n",
       "</div>"
      ],
      "text/plain": [
       "     stock      coef\n",
       "0   EOD-VZ         0\n",
       "1  EOD-UTX        -0\n",
       "2  EOD-MRK         0\n",
       "3  EOD-UNH        -0\n",
       "4  EOD-TRV         0\n",
       "5   EOD-KO  0.155017\n",
       "6  EOD-WMT         0\n",
       "7   EOD-GS        -0\n",
       "8    EOD-V         0"
      ]
     },
     "execution_count": 281,
     "metadata": {},
     "output_type": "execute_result"
    }
   ],
   "source": [
    "pd.DataFrame(np.array([X.columns,lassoreg.coef_]).T, columns = ['stock', 'coef'])"
   ]
  },
  {
   "cell_type": "code",
   "execution_count": null,
   "metadata": {
    "collapsed": false
   },
   "outputs": [],
   "source": [
    "# cool way to separate out columns for different types of data\n",
    "f_cols=[f for f in train_data.columns if f.startswith('fundamental')]\n",
    "t_cols=[t for t in train_data.columns if t.startswith('technical')]"
   ]
  },
  {
   "cell_type": "code",
   "execution_count": 234,
   "metadata": {
    "collapsed": false
   },
   "outputs": [
    {
     "data": {
      "text/plain": [
       "PCA(copy=True, n_components=None, whiten=False)"
      ]
     },
     "execution_count": 234,
     "metadata": {},
     "output_type": "execute_result"
    }
   ],
   "source": [
    "from sklearn.decomposition import PCA\n",
    "pca = PCA() # PCA(n_components=2)\n",
    "pca.fit(log_returns.dropna())"
   ]
  },
  {
   "cell_type": "code",
   "execution_count": 235,
   "metadata": {
    "collapsed": false
   },
   "outputs": [
    {
     "name": "stdout",
     "output_type": "stream",
     "text": [
      "[[-0.05773489 -0.37018584 -0.23449812 -0.35091167 -0.22218505 -0.21569821\n",
      "  -0.02551206 -0.18248633 -0.71360149 -0.20598453]\n",
      " [-0.19060916 -0.50084294  0.16604384 -0.31625695  0.0630628   0.07374918\n",
      "  -0.12079699 -0.57872124  0.42472028  0.21429446]\n",
      " [-0.02540343 -0.4557222   0.11696364 -0.26965073  0.23030995 -0.17117269\n",
      "   0.01116934  0.72612721  0.03802135  0.30676712]\n",
      " [ 0.11264288  0.1449281   0.37930758 -0.02241594  0.67319506  0.15734821\n",
      "   0.11830238 -0.22901809 -0.4696444   0.23868404]\n",
      " [ 0.18578829 -0.56231146  0.02423547  0.7849502  -0.02089302 -0.03887163\n",
      "   0.11055618 -0.07946298 -0.0973595   0.05090119]\n",
      " [ 0.24741167 -0.11818503  0.32440374 -0.16677004 -0.44897304  0.7076043\n",
      "   0.2514524   0.12426149 -0.10278098  0.01599786]\n",
      " [ 0.0247894   0.21793535  0.43033339  0.04959095 -0.4832928  -0.45939473\n",
      "  -0.05473969 -0.08983606 -0.12295836  0.54170325]\n",
      " [ 0.61123623  0.03957699 -0.52837768 -0.17730688  0.03150592 -0.07774326\n",
      "   0.3473305  -0.13986748  0.11466894  0.39219414]\n",
      " [-0.54203998  0.06311566 -0.43073912  0.16018816 -0.06143346  0.37857859\n",
      "  -0.07972695  0.03732294 -0.18657172  0.54896123]\n",
      " [-0.42806504  0.01497634  0.06445317 -0.01059504 -0.00840757 -0.17706681\n",
      "   0.8747541  -0.035899    0.07248844 -0.09543676]]\n"
     ]
    }
   ],
   "source": [
    "print(pca.components_)"
   ]
  },
  {
   "cell_type": "code",
   "execution_count": 236,
   "metadata": {
    "collapsed": false
   },
   "outputs": [
    {
     "name": "stdout",
     "output_type": "stream",
     "text": [
      "[  2.05337621e-04   1.49870180e-04   1.15653190e-04   7.96983879e-05\n",
      "   7.30498501e-05   6.96151405e-05   5.84877890e-05   5.23107647e-05\n",
      "   3.24089726e-05   2.31846645e-05]\n"
     ]
    }
   ],
   "source": [
    "print(pca.explained_variance_)"
   ]
  },
  {
   "cell_type": "code",
   "execution_count": 237,
   "metadata": {
    "collapsed": false
   },
   "outputs": [
    {
     "data": {
      "text/plain": [
       "[<matplotlib.lines.Line2D at 0x1226d7748>]"
      ]
     },
     "execution_count": 237,
     "metadata": {},
     "output_type": "execute_result"
    },
    {
     "data": {
      "image/png": "[encoded data removed]",
      "text/plain": [
       "<matplotlib.figure.Figure at 0x12687e550>"
      ]
     },
     "metadata": {},
     "output_type": "display_data"
    }
   ],
   "source": [
    "plt.plot(pca.explained_variance_)"
   ]
  },
  {
   "cell_type": "code",
   "execution_count": 241,
   "metadata": {
    "collapsed": true
   },
   "outputs": [],
   "source": [
    "from sklearn import preprocessing\n",
    "std_scale = preprocessing.StandardScaler().fit(log_returns)\n",
    "X_std = std_scale.transform(log_returns)"
   ]
  },
  {
   "cell_type": "code",
   "execution_count": 245,
   "metadata": {
    "collapsed": false
   },
   "outputs": [
    {
     "data": {
      "text/plain": [
       "PCA(copy=True, n_components=None, whiten=False)"
      ]
     },
     "execution_count": 245,
     "metadata": {},
     "output_type": "execute_result"
    }
   ],
   "source": [
    "pca = PCA() # PCA(n_components=2)\n",
    "pca.fit(X_std)"
   ]
  },
  {
   "cell_type": "code",
   "execution_count": 246,
   "metadata": {
    "collapsed": false
   },
   "outputs": [
    {
     "data": {
      "text/plain": [
       "[<matplotlib.lines.Line2D at 0x12267a4e0>]"
      ]
     },
     "execution_count": 246,
     "metadata": {},
     "output_type": "execute_result"
    },
    {
     "data": {
      "image/png": "[encoded data removed]",
      "text/plain": [
       "<matplotlib.figure.Figure at 0x1225a3208>"
      ]
     },
     "metadata": {},
     "output_type": "display_data"
    }
   ],
   "source": [
    "plt.plot(pca.explained_variance_)"
   ]
  },
  {
   "cell_type": "code",
   "execution_count": 247,
   "metadata": {
    "collapsed": false
   },
   "outputs": [
    {
     "data": {
      "text/plain": [
       "array([ 1.9408256 ,  1.43559489,  1.12722275,  1.06012833,  0.82717411,\n",
       "        0.7654    ,  0.71874584,  0.66244732,  0.46246114])"
      ]
     },
     "execution_count": 247,
     "metadata": {},
     "output_type": "execute_result"
    }
   ],
   "source": [
    "pca.explained_variance_"
   ]
  },
  {
   "cell_type": "code",
   "execution_count": 248,
   "metadata": {
    "collapsed": false
   },
   "outputs": [
    {
     "data": {
      "text/plain": [
       "array([ 0.26091978,  0.44307322,  0.30997153,  0.34172016,  0.3391812 ,\n",
       "        0.11855325,  0.1369407 ,  0.48255014,  0.37688966])"
      ]
     },
     "execution_count": 248,
     "metadata": {},
     "output_type": "execute_result"
    }
   ],
   "source": [
    "pca.components_[0]"
   ]
  },
  {
   "cell_type": "code",
   "execution_count": 279,
   "metadata": {
    "collapsed": false
   },
   "outputs": [
    {
     "data": {
      "text/plain": [
       "'    print(lm.intercept_)\\n    print(lm.coef_)\\n    print(lm.score(X,y))'"
      ]
     },
     "execution_count": 279,
     "metadata": {},
     "output_type": "execute_result"
    },
    {
     "data": {
      "image/png": "[encoded data removed]",
      "text/plain": [
       "<matplotlib.figure.Figure at 0x126cc4978>"
      ]
     },
     "metadata": {},
     "output_type": "display_data"
    }
   ],
   "source": [
    "#NORMALISE THE DATAFRAME\n",
    "\n",
    "\n",
    "#lots of graphs\n",
    "\n",
    "lm = LinearRegression()\n",
    "y = log_returns['EOD-PG'].dropna().to_frame().dropna()\n",
    "\n",
    "fig, axes = plt.subplots(nrows=3, ncols=3, sharex=False, figsize=(15,15))\n",
    "\n",
    "\n",
    "\n",
    "for ax, column in zip(axes.flat, log_returns.drop('EOD-PG', axis=1)):\n",
    "    X = log_returns[column].dropna().to_frame().dropna()  \n",
    "    lm.fit(X,y)\n",
    "    \n",
    "    ax.scatter(X, y)\n",
    "    ax.plot(X, lm.predict(X), color='blue', linewidth=3)\n",
    "    ax.set_title(column)\n",
    "    \n",
    "    ax.set_xlabel('x')\n",
    "    ax.set_ylabel('y')\n",
    "    #ax.text('hi')\n",
    "    \n",
    "    #find out why I have this twice\n",
    "    X2 = sm.add_constant(X)\n",
    "    est = sm.OLS(y, X2)\n",
    "    est2 = est.fit()\n",
    "    pvalue = sm.stats.linear_rainbow(est2)[1]\n",
    "    \n",
    "    text(0.8, 0.8,'coef = ' + str(lm.coef_) + '\\n $R^{2}$ = ' + str(lm.score(X,y)) + '\\n p-value = ' + str(pvalue), ha='center', va='center', transform=ax.transAxes)\n",
    "    \n",
    "    \n",
    "'''    for ax, title, y in zip(axes.flat, titles, y_vals):\n",
    "    ax.plot(x, y)\n",
    "    ax.set_title(title)\n",
    "    ax.grid(True)'''\n",
    "    \n",
    "'''    print(lm.intercept_)\n",
    "    print(lm.coef_)\n",
    "    print(lm.score(X,y))'''"
   ]
  },
  {
   "cell_type": "code",
   "execution_count": 261,
   "metadata": {
    "collapsed": false
   },
   "outputs": [
    {
     "data": {
      "text/plain": [
       "(257, 9)"
      ]
     },
     "execution_count": 261,
     "metadata": {},
     "output_type": "execute_result"
    }
   ],
   "source": []
  },
  {
   "cell_type": "code",
   "execution_count": 250,
   "metadata": {
    "collapsed": false
   },
   "outputs": [
    {
     "data": {
      "image/png": "[encoded data removed]",
      "text/plain": [
       "<matplotlib.figure.Figure at 0x1268db7b8>"
      ]
     },
     "metadata": {},
     "output_type": "display_data"
    }
   ],
   "source": [
    "x = np.linspace(0, 5, 10)\n",
    "y = x * x\n",
    "\n",
    "fig, axes = plt.subplots(nrows=2, ncols=2, sharex=True)\n",
    "\n",
    "titles = ['Linear', 'Squared', 'Cubic', 'Quartic']\n",
    "y_vals = [x, x * x, x**3, x**4]\n",
    "\n",
    "# axes.flat returns the set of axes as a flat (1D) array instead\n",
    "# of the two-dimensional version we used earlier\n",
    "for ax, title, y in zip(axes.flat, titles, y_vals):\n",
    "    ax.plot(x, y)\n",
    "    ax.set_title(title)\n",
    "    ax.grid(True)"
   ]
  },
  {
   "cell_type": "code",
   "execution_count": 239,
   "metadata": {
    "collapsed": false
   },
   "outputs": [
    {
     "data": {
      "text/plain": [
       "array([-0.05773489, -0.37018584, -0.23449812, -0.35091167, -0.22218505,\n",
       "       -0.21569821, -0.02551206, -0.18248633, -0.71360149, -0.20598453])"
      ]
     },
     "execution_count": 239,
     "metadata": {},
     "output_type": "execute_result"
    }
   ],
   "source": [
    "pca.components_[0]\n"
   ]
  },
  {
   "cell_type": "code",
   "execution_count": null,
   "metadata": {
    "collapsed": false
   },
   "outputs": [],
   "source": [
    "#Also, look at just getting cov matrix (or corr matrix) to look at correlated stocks?"
   ]
  },
  {
   "cell_type": "code",
   "execution_count": null,
   "metadata": {
    "collapsed": true
   },
   "outputs": [],
   "source": [
    "#lots of graphs\n",
    "#websites\n",
    "#monthly grouping\n",
    "#upload this somewhere\n",
    "#neater version\n",
    "#go through heard on the street questions\n",
    "#how many coin tosses to get n heads?\n",
    "#lagrange multipliers"
   ]
  }
 ],
 "metadata": {
  "anaconda-cloud": {},
  "kernelspec": {
   "display_name": "Python [conda root]",
   "language": "python",
   "name": "conda-root-py"
  },
  "language_info": {
   "codemirror_mode": {
    "name": "ipython",
    "version": 3
   },
   "file_extension": ".py",
   "mimetype": "text/x-python",
   "name": "python",
   "nbconvert_exporter": "python",
   "pygments_lexer": "ipython3",
   "version": "3.5.2"
  }
 },
 "nbformat": 4,
 "nbformat_minor": 1
}
